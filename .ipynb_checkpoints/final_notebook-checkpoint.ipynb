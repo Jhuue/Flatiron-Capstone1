{
 "cells": [
  {
   "cell_type": "markdown",
   "metadata": {},
   "source": [
    "## Data Cleaning"
   ]
  },
  {
   "cell_type": "code",
   "execution_count": 1,
   "metadata": {},
   "outputs": [],
   "source": [
    "import pandas as pd\n",
    "import sqlite3\n",
    "import numpy as np\n",
    "import matplotlib.pyplot as plt\n",
    "%matplotlib inline\n",
    "import seaborn as sns\n",
    "from matplotlib.ticker import FuncFormatter\n",
    "from sklearn import preprocessing\n",
    "import warnings\n",
    "import matplotlib.cbook\n",
    "warnings.filterwarnings(\"ignore\",category=matplotlib.cbook.mplDeprecation)\n",
    "import scipy \n",
    "from scipy import stats\n",
    "import math\n",
    "from math import sqrt\n"
   ]
  },
  {
   "cell_type": "markdown",
   "metadata": {},
   "source": [
    "### The Movie Data Base"
   ]
  },
  {
   "cell_type": "code",
   "execution_count": 2,
   "metadata": {},
   "outputs": [
    {
     "data": {
      "text/html": [
       "<div>\n",
       "<style scoped>\n",
       "    .dataframe tbody tr th:only-of-type {\n",
       "        vertical-align: middle;\n",
       "    }\n",
       "\n",
       "    .dataframe tbody tr th {\n",
       "        vertical-align: top;\n",
       "    }\n",
       "\n",
       "    .dataframe thead th {\n",
       "        text-align: right;\n",
       "    }\n",
       "</style>\n",
       "<table border=\"1\" class=\"dataframe\">\n",
       "  <thead>\n",
       "    <tr style=\"text-align: right;\">\n",
       "      <th></th>\n",
       "      <th>genre_ids</th>\n",
       "      <th>id</th>\n",
       "      <th>original_language</th>\n",
       "      <th>original_title</th>\n",
       "      <th>popularity</th>\n",
       "      <th>release_date</th>\n",
       "      <th>title</th>\n",
       "      <th>vote_average</th>\n",
       "      <th>vote_count</th>\n",
       "    </tr>\n",
       "  </thead>\n",
       "  <tbody>\n",
       "    <tr>\n",
       "      <th>0</th>\n",
       "      <td>[12, 14, 10751]</td>\n",
       "      <td>12444</td>\n",
       "      <td>en</td>\n",
       "      <td>Harry Potter and the Deathly Hallows: Part 1</td>\n",
       "      <td>33.533</td>\n",
       "      <td>2010-11-19</td>\n",
       "      <td>Harry Potter and the Deathly Hallows: Part 1</td>\n",
       "      <td>7.7</td>\n",
       "      <td>10788</td>\n",
       "    </tr>\n",
       "    <tr>\n",
       "      <th>1</th>\n",
       "      <td>[14, 12, 16, 10751]</td>\n",
       "      <td>10191</td>\n",
       "      <td>en</td>\n",
       "      <td>How to Train Your Dragon</td>\n",
       "      <td>28.734</td>\n",
       "      <td>2010-03-26</td>\n",
       "      <td>How to Train Your Dragon</td>\n",
       "      <td>7.7</td>\n",
       "      <td>7610</td>\n",
       "    </tr>\n",
       "    <tr>\n",
       "      <th>2</th>\n",
       "      <td>[12, 28, 878]</td>\n",
       "      <td>10138</td>\n",
       "      <td>en</td>\n",
       "      <td>Iron Man 2</td>\n",
       "      <td>28.515</td>\n",
       "      <td>2010-05-07</td>\n",
       "      <td>Iron Man 2</td>\n",
       "      <td>6.8</td>\n",
       "      <td>12368</td>\n",
       "    </tr>\n",
       "    <tr>\n",
       "      <th>3</th>\n",
       "      <td>[16, 35, 10751]</td>\n",
       "      <td>862</td>\n",
       "      <td>en</td>\n",
       "      <td>Toy Story</td>\n",
       "      <td>28.005</td>\n",
       "      <td>1995-11-22</td>\n",
       "      <td>Toy Story</td>\n",
       "      <td>7.9</td>\n",
       "      <td>10174</td>\n",
       "    </tr>\n",
       "    <tr>\n",
       "      <th>4</th>\n",
       "      <td>[28, 878, 12]</td>\n",
       "      <td>27205</td>\n",
       "      <td>en</td>\n",
       "      <td>Inception</td>\n",
       "      <td>27.920</td>\n",
       "      <td>2010-07-16</td>\n",
       "      <td>Inception</td>\n",
       "      <td>8.3</td>\n",
       "      <td>22186</td>\n",
       "    </tr>\n",
       "  </tbody>\n",
       "</table>\n",
       "</div>"
      ],
      "text/plain": [
       "             genre_ids     id original_language  \\\n",
       "0      [12, 14, 10751]  12444                en   \n",
       "1  [14, 12, 16, 10751]  10191                en   \n",
       "2        [12, 28, 878]  10138                en   \n",
       "3      [16, 35, 10751]    862                en   \n",
       "4        [28, 878, 12]  27205                en   \n",
       "\n",
       "                                 original_title  popularity release_date  \\\n",
       "0  Harry Potter and the Deathly Hallows: Part 1      33.533   2010-11-19   \n",
       "1                      How to Train Your Dragon      28.734   2010-03-26   \n",
       "2                                    Iron Man 2      28.515   2010-05-07   \n",
       "3                                     Toy Story      28.005   1995-11-22   \n",
       "4                                     Inception      27.920   2010-07-16   \n",
       "\n",
       "                                          title  vote_average  vote_count  \n",
       "0  Harry Potter and the Deathly Hallows: Part 1           7.7       10788  \n",
       "1                      How to Train Your Dragon           7.7        7610  \n",
       "2                                    Iron Man 2           6.8       12368  \n",
       "3                                     Toy Story           7.9       10174  \n",
       "4                                     Inception           8.3       22186  "
      ]
     },
     "execution_count": 2,
     "metadata": {},
     "output_type": "execute_result"
    }
   ],
   "source": [
    "# read data in\n",
    "tmdb = pd.read_csv('Data/tmdb.movies.csv', index_col=0)\n",
    "tmdb.head()"
   ]
  },
  {
   "cell_type": "code",
   "execution_count": 3,
   "metadata": {},
   "outputs": [
    {
     "data": {
      "text/plain": [
       "(26517, 9)"
      ]
     },
     "execution_count": 3,
     "metadata": {},
     "output_type": "execute_result"
    }
   ],
   "source": [
    "tmdb.shape"
   ]
  },
  {
   "cell_type": "code",
   "execution_count": 4,
   "metadata": {},
   "outputs": [
    {
     "data": {
      "text/plain": [
       "genre_ids            False\n",
       "id                   False\n",
       "original_language    False\n",
       "original_title       False\n",
       "popularity           False\n",
       "release_date         False\n",
       "title                False\n",
       "vote_average         False\n",
       "vote_count           False\n",
       "dtype: bool"
      ]
     },
     "execution_count": 4,
     "metadata": {},
     "output_type": "execute_result"
    }
   ],
   "source": [
    "tmdb.isna().any()"
   ]
  },
  {
   "cell_type": "code",
   "execution_count": 5,
   "metadata": {},
   "outputs": [
    {
     "name": "stdout",
     "output_type": "stream",
     "text": [
      "<class 'pandas.core.frame.DataFrame'>\n",
      "Int64Index: 26517 entries, 0 to 26516\n",
      "Data columns (total 9 columns):\n",
      " #   Column             Non-Null Count  Dtype  \n",
      "---  ------             --------------  -----  \n",
      " 0   genre_ids          26517 non-null  object \n",
      " 1   id                 26517 non-null  int64  \n",
      " 2   original_language  26517 non-null  object \n",
      " 3   original_title     26517 non-null  object \n",
      " 4   popularity         26517 non-null  float64\n",
      " 5   release_date       26517 non-null  object \n",
      " 6   title              26517 non-null  object \n",
      " 7   vote_average       26517 non-null  float64\n",
      " 8   vote_count         26517 non-null  int64  \n",
      "dtypes: float64(2), int64(2), object(5)\n",
      "memory usage: 2.0+ MB\n"
     ]
    }
   ],
   "source": [
    "tmdb.info()"
   ]
  },
  {
   "cell_type": "markdown",
   "metadata": {},
   "source": [
    "Here we can see that our release date isn't being treated as a datetime object. The genre IDs will also be more useful as lists rather than strings"
   ]
  },
  {
   "cell_type": "code",
   "execution_count": 6,
   "metadata": {},
   "outputs": [
    {
     "name": "stdout",
     "output_type": "stream",
     "text": [
      "<class 'pandas.core.frame.DataFrame'>\n",
      "Int64Index: 26517 entries, 0 to 26516\n",
      "Data columns (total 10 columns):\n",
      " #   Column             Non-Null Count  Dtype         \n",
      "---  ------             --------------  -----         \n",
      " 0   genre_ids          26517 non-null  object        \n",
      " 1   id                 26517 non-null  int64         \n",
      " 2   original_language  26517 non-null  object        \n",
      " 3   original_title     26517 non-null  object        \n",
      " 4   popularity         26517 non-null  float64       \n",
      " 5   release_date       26517 non-null  datetime64[ns]\n",
      " 6   title              26517 non-null  object        \n",
      " 7   vote_average       26517 non-null  float64       \n",
      " 8   vote_count         26517 non-null  int64         \n",
      " 9   release_month      26517 non-null  int64         \n",
      "dtypes: datetime64[ns](1), float64(2), int64(3), object(4)\n",
      "memory usage: 2.2+ MB\n"
     ]
    }
   ],
   "source": [
    "# change release date to datetime\n",
    "tmdb.release_date = pd.to_datetime(tmdb.release_date)\n",
    "# turn genre ids into lists\n",
    "tmdb.genre_ids = tmdb.genre_ids.str.strip('[]').str.split(',')\n",
    "# remove whitespace from genre ids\n",
    "tmdb.genre_ids = tmdb.genre_ids.apply(lambda x: [y.strip() for y in x])\n",
    "# add release month column\n",
    "tmdb['release_month'] = tmdb.release_date.dt.month\n",
    "tmdb.info()"
   ]
  },
  {
   "cell_type": "code",
   "execution_count": 7,
   "metadata": {},
   "outputs": [
    {
     "data": {
      "text/html": [
       "<div>\n",
       "<style scoped>\n",
       "    .dataframe tbody tr th:only-of-type {\n",
       "        vertical-align: middle;\n",
       "    }\n",
       "\n",
       "    .dataframe tbody tr th {\n",
       "        vertical-align: top;\n",
       "    }\n",
       "\n",
       "    .dataframe thead th {\n",
       "        text-align: right;\n",
       "    }\n",
       "</style>\n",
       "<table border=\"1\" class=\"dataframe\">\n",
       "  <thead>\n",
       "    <tr style=\"text-align: right;\">\n",
       "      <th></th>\n",
       "      <th>id</th>\n",
       "      <th>genre_ids</th>\n",
       "      <th>vote_average</th>\n",
       "    </tr>\n",
       "  </thead>\n",
       "  <tbody>\n",
       "    <tr>\n",
       "      <th>0</th>\n",
       "      <td>12444</td>\n",
       "      <td>12</td>\n",
       "      <td>7.7</td>\n",
       "    </tr>\n",
       "    <tr>\n",
       "      <th>1</th>\n",
       "      <td>12444</td>\n",
       "      <td>14</td>\n",
       "      <td>7.7</td>\n",
       "    </tr>\n",
       "    <tr>\n",
       "      <th>2</th>\n",
       "      <td>12444</td>\n",
       "      <td>10751</td>\n",
       "      <td>7.7</td>\n",
       "    </tr>\n",
       "    <tr>\n",
       "      <th>3</th>\n",
       "      <td>10191</td>\n",
       "      <td>14</td>\n",
       "      <td>7.7</td>\n",
       "    </tr>\n",
       "    <tr>\n",
       "      <th>4</th>\n",
       "      <td>10191</td>\n",
       "      <td>12</td>\n",
       "      <td>7.7</td>\n",
       "    </tr>\n",
       "  </tbody>\n",
       "</table>\n",
       "</div>"
      ],
      "text/plain": [
       "      id genre_ids  vote_average\n",
       "0  12444        12           7.7\n",
       "1  12444        14           7.7\n",
       "2  12444     10751           7.7\n",
       "3  10191        14           7.7\n",
       "4  10191        12           7.7"
      ]
     },
     "execution_count": 7,
     "metadata": {},
     "output_type": "execute_result"
    }
   ],
   "source": [
    "ids = []\n",
    "genre_ids = []\n",
    "vote_averages = []\n",
    " \n",
    "popularity_by_genre = {'id': ids, 'genre_ids': genre_ids, 'vote_average': vote_averages}\n",
    " \n",
    "for index, row in tmdb.iterrows():\n",
    "    for genre in row[0]:\n",
    "        ids.append(row[1])\n",
    "        genre_ids.append(genre)\n",
    "        vote_averages.append(row[7])\n",
    " \n",
    "popularity_by_genre = pd.DataFrame(popularity_by_genre)\n",
    "popularity_by_genre.head()"
   ]
  },
  {
   "cell_type": "code",
   "execution_count": 8,
   "metadata": {},
   "outputs": [],
   "source": [
    "# get unique set of genres\n",
    "genres = set(tmdb.genre_ids.sum())\n",
    "# convert genre ids list back to string\n",
    "tmdb.genre_ids = tmdb.genre_ids.astype(str)\n",
    "# check if string contains the genre\n",
    "for genre in genres:\n",
    "    tmdb[genre] = tmdb.genre_ids.str.contains(genre)"
   ]
  },
  {
   "cell_type": "code",
   "execution_count": 9,
   "metadata": {},
   "outputs": [
    {
     "data": {
      "text/plain": [
       "(26517, 30)"
      ]
     },
     "execution_count": 9,
     "metadata": {},
     "output_type": "execute_result"
    }
   ],
   "source": [
    "tmdb.shape"
   ]
  },
  {
   "cell_type": "code",
   "execution_count": 10,
   "metadata": {},
   "outputs": [
    {
     "data": {
      "text/html": [
       "<div>\n",
       "<style scoped>\n",
       "    .dataframe tbody tr th:only-of-type {\n",
       "        vertical-align: middle;\n",
       "    }\n",
       "\n",
       "    .dataframe tbody tr th {\n",
       "        vertical-align: top;\n",
       "    }\n",
       "\n",
       "    .dataframe thead th {\n",
       "        text-align: right;\n",
       "    }\n",
       "</style>\n",
       "<table border=\"1\" class=\"dataframe\">\n",
       "  <thead>\n",
       "    <tr style=\"text-align: right;\">\n",
       "      <th></th>\n",
       "      <th>genre_ids</th>\n",
       "      <th>id</th>\n",
       "      <th>original_language</th>\n",
       "      <th>original_title</th>\n",
       "      <th>popularity</th>\n",
       "      <th>release_date</th>\n",
       "      <th>title</th>\n",
       "      <th>vote_average</th>\n",
       "      <th>vote_count</th>\n",
       "      <th>release_month</th>\n",
       "      <th>...</th>\n",
       "      <th>Documentary</th>\n",
       "      <th>Drama</th>\n",
       "      <th>History</th>\n",
       "      <th>Mystery</th>\n",
       "      <th>Horror</th>\n",
       "      <th>Animation</th>\n",
       "      <th>Thriller</th>\n",
       "      <th>Action</th>\n",
       "      <th>TV Movie</th>\n",
       "      <th>War</th>\n",
       "    </tr>\n",
       "  </thead>\n",
       "  <tbody>\n",
       "    <tr>\n",
       "      <th>0</th>\n",
       "      <td>['12', '14', '10751']</td>\n",
       "      <td>12444</td>\n",
       "      <td>en</td>\n",
       "      <td>Harry Potter and the Deathly Hallows: Part 1</td>\n",
       "      <td>33.533</td>\n",
       "      <td>2010-11-19</td>\n",
       "      <td>Harry Potter and the Deathly Hallows: Part 1</td>\n",
       "      <td>7.7</td>\n",
       "      <td>10788</td>\n",
       "      <td>11</td>\n",
       "      <td>...</td>\n",
       "      <td>False</td>\n",
       "      <td>False</td>\n",
       "      <td>False</td>\n",
       "      <td>False</td>\n",
       "      <td>False</td>\n",
       "      <td>False</td>\n",
       "      <td>False</td>\n",
       "      <td>False</td>\n",
       "      <td>False</td>\n",
       "      <td>False</td>\n",
       "    </tr>\n",
       "    <tr>\n",
       "      <th>1</th>\n",
       "      <td>['14', '12', '16', '10751']</td>\n",
       "      <td>10191</td>\n",
       "      <td>en</td>\n",
       "      <td>How to Train Your Dragon</td>\n",
       "      <td>28.734</td>\n",
       "      <td>2010-03-26</td>\n",
       "      <td>How to Train Your Dragon</td>\n",
       "      <td>7.7</td>\n",
       "      <td>7610</td>\n",
       "      <td>3</td>\n",
       "      <td>...</td>\n",
       "      <td>False</td>\n",
       "      <td>False</td>\n",
       "      <td>False</td>\n",
       "      <td>False</td>\n",
       "      <td>False</td>\n",
       "      <td>True</td>\n",
       "      <td>False</td>\n",
       "      <td>False</td>\n",
       "      <td>False</td>\n",
       "      <td>False</td>\n",
       "    </tr>\n",
       "    <tr>\n",
       "      <th>2</th>\n",
       "      <td>['12', '28', '878']</td>\n",
       "      <td>10138</td>\n",
       "      <td>en</td>\n",
       "      <td>Iron Man 2</td>\n",
       "      <td>28.515</td>\n",
       "      <td>2010-05-07</td>\n",
       "      <td>Iron Man 2</td>\n",
       "      <td>6.8</td>\n",
       "      <td>12368</td>\n",
       "      <td>5</td>\n",
       "      <td>...</td>\n",
       "      <td>False</td>\n",
       "      <td>False</td>\n",
       "      <td>False</td>\n",
       "      <td>False</td>\n",
       "      <td>False</td>\n",
       "      <td>False</td>\n",
       "      <td>False</td>\n",
       "      <td>True</td>\n",
       "      <td>False</td>\n",
       "      <td>False</td>\n",
       "    </tr>\n",
       "    <tr>\n",
       "      <th>3</th>\n",
       "      <td>['16', '35', '10751']</td>\n",
       "      <td>862</td>\n",
       "      <td>en</td>\n",
       "      <td>Toy Story</td>\n",
       "      <td>28.005</td>\n",
       "      <td>1995-11-22</td>\n",
       "      <td>Toy Story</td>\n",
       "      <td>7.9</td>\n",
       "      <td>10174</td>\n",
       "      <td>11</td>\n",
       "      <td>...</td>\n",
       "      <td>False</td>\n",
       "      <td>False</td>\n",
       "      <td>False</td>\n",
       "      <td>False</td>\n",
       "      <td>False</td>\n",
       "      <td>True</td>\n",
       "      <td>False</td>\n",
       "      <td>False</td>\n",
       "      <td>False</td>\n",
       "      <td>False</td>\n",
       "    </tr>\n",
       "    <tr>\n",
       "      <th>4</th>\n",
       "      <td>['28', '878', '12']</td>\n",
       "      <td>27205</td>\n",
       "      <td>en</td>\n",
       "      <td>Inception</td>\n",
       "      <td>27.920</td>\n",
       "      <td>2010-07-16</td>\n",
       "      <td>Inception</td>\n",
       "      <td>8.3</td>\n",
       "      <td>22186</td>\n",
       "      <td>7</td>\n",
       "      <td>...</td>\n",
       "      <td>False</td>\n",
       "      <td>False</td>\n",
       "      <td>False</td>\n",
       "      <td>False</td>\n",
       "      <td>False</td>\n",
       "      <td>False</td>\n",
       "      <td>False</td>\n",
       "      <td>True</td>\n",
       "      <td>False</td>\n",
       "      <td>False</td>\n",
       "    </tr>\n",
       "  </tbody>\n",
       "</table>\n",
       "<p>5 rows × 30 columns</p>\n",
       "</div>"
      ],
      "text/plain": [
       "                     genre_ids     id original_language  \\\n",
       "0        ['12', '14', '10751']  12444                en   \n",
       "1  ['14', '12', '16', '10751']  10191                en   \n",
       "2          ['12', '28', '878']  10138                en   \n",
       "3        ['16', '35', '10751']    862                en   \n",
       "4          ['28', '878', '12']  27205                en   \n",
       "\n",
       "                                 original_title  popularity release_date  \\\n",
       "0  Harry Potter and the Deathly Hallows: Part 1      33.533   2010-11-19   \n",
       "1                      How to Train Your Dragon      28.734   2010-03-26   \n",
       "2                                    Iron Man 2      28.515   2010-05-07   \n",
       "3                                     Toy Story      28.005   1995-11-22   \n",
       "4                                     Inception      27.920   2010-07-16   \n",
       "\n",
       "                                          title  vote_average  vote_count  \\\n",
       "0  Harry Potter and the Deathly Hallows: Part 1           7.7       10788   \n",
       "1                      How to Train Your Dragon           7.7        7610   \n",
       "2                                    Iron Man 2           6.8       12368   \n",
       "3                                     Toy Story           7.9       10174   \n",
       "4                                     Inception           8.3       22186   \n",
       "\n",
       "   release_month  ...  Documentary  Drama  History  Mystery  Horror  \\\n",
       "0             11  ...        False  False    False    False   False   \n",
       "1              3  ...        False  False    False    False   False   \n",
       "2              5  ...        False  False    False    False   False   \n",
       "3             11  ...        False  False    False    False   False   \n",
       "4              7  ...        False  False    False    False   False   \n",
       "\n",
       "   Animation  Thriller  Action  TV Movie    War  \n",
       "0      False     False   False     False  False  \n",
       "1       True     False   False     False  False  \n",
       "2      False     False    True     False  False  \n",
       "3       True     False   False     False  False  \n",
       "4      False     False    True     False  False  \n",
       "\n",
       "[5 rows x 30 columns]"
      ]
     },
     "execution_count": 10,
     "metadata": {},
     "output_type": "execute_result"
    }
   ],
   "source": [
    "# rename columns for genres\n",
    "genre_mappings = {\n",
    "    '28': 'Action',\n",
    "    '12': 'Adventure',\n",
    "    '16': 'Animation',\n",
    "    '35': 'Comedy',\n",
    "    '80': 'Crime',\n",
    "    '99': 'Documentary',\n",
    "    '18': 'Drama',\n",
    "    '10751': 'Family',\n",
    "    '14': 'Fantasy',\n",
    "    '36': 'History',\n",
    "    '27': 'Horror',\n",
    "    '10402': 'Music',\n",
    "    '9648': 'Mystery',\n",
    "    '10749': 'Romance',\n",
    "    '878': 'Science Fiction',\n",
    "    '10770': 'TV Movie',\n",
    "    '53': 'Thriller',\n",
    "    '10752': 'War',\n",
    "    '37': 'Western'\n",
    "}\n",
    "\n",
    "tmdb = tmdb.rename(columns=genre_mappings)\n",
    "tmdb.head()"
   ]
  },
  {
   "cell_type": "code",
   "execution_count": 11,
   "metadata": {},
   "outputs": [
    {
     "data": {
      "text/html": [
       "<div>\n",
       "<style scoped>\n",
       "    .dataframe tbody tr th:only-of-type {\n",
       "        vertical-align: middle;\n",
       "    }\n",
       "\n",
       "    .dataframe tbody tr th {\n",
       "        vertical-align: top;\n",
       "    }\n",
       "\n",
       "    .dataframe thead th {\n",
       "        text-align: right;\n",
       "    }\n",
       "</style>\n",
       "<table border=\"1\" class=\"dataframe\">\n",
       "  <thead>\n",
       "    <tr style=\"text-align: right;\">\n",
       "      <th></th>\n",
       "      <th>genre_ids</th>\n",
       "      <th>id</th>\n",
       "      <th>original_language</th>\n",
       "      <th>original_title</th>\n",
       "      <th>popularity</th>\n",
       "      <th>release_date</th>\n",
       "      <th>title</th>\n",
       "      <th>vote_average</th>\n",
       "      <th>vote_count</th>\n",
       "      <th>release_month</th>\n",
       "      <th>...</th>\n",
       "      <th>Documentary</th>\n",
       "      <th>Drama</th>\n",
       "      <th>History</th>\n",
       "      <th>Mystery</th>\n",
       "      <th>Horror</th>\n",
       "      <th>Animation</th>\n",
       "      <th>Thriller</th>\n",
       "      <th>Action</th>\n",
       "      <th>TV Movie</th>\n",
       "      <th>War</th>\n",
       "    </tr>\n",
       "  </thead>\n",
       "  <tbody>\n",
       "    <tr>\n",
       "      <th>0</th>\n",
       "      <td>['12', '14', '10751']</td>\n",
       "      <td>12444</td>\n",
       "      <td>en</td>\n",
       "      <td>Harry Potter and the Deathly Hallows: Part 1</td>\n",
       "      <td>33.533</td>\n",
       "      <td>2010-11-19</td>\n",
       "      <td>Harry Potter and the Deathly Hallows: Part 1</td>\n",
       "      <td>7.7</td>\n",
       "      <td>10788</td>\n",
       "      <td>11</td>\n",
       "      <td>...</td>\n",
       "      <td>False</td>\n",
       "      <td>False</td>\n",
       "      <td>False</td>\n",
       "      <td>False</td>\n",
       "      <td>False</td>\n",
       "      <td>False</td>\n",
       "      <td>False</td>\n",
       "      <td>False</td>\n",
       "      <td>False</td>\n",
       "      <td>False</td>\n",
       "    </tr>\n",
       "    <tr>\n",
       "      <th>1</th>\n",
       "      <td>['14', '12', '16', '10751']</td>\n",
       "      <td>10191</td>\n",
       "      <td>en</td>\n",
       "      <td>How to Train Your Dragon</td>\n",
       "      <td>28.734</td>\n",
       "      <td>2010-03-26</td>\n",
       "      <td>How to Train Your Dragon</td>\n",
       "      <td>7.7</td>\n",
       "      <td>7610</td>\n",
       "      <td>3</td>\n",
       "      <td>...</td>\n",
       "      <td>False</td>\n",
       "      <td>False</td>\n",
       "      <td>False</td>\n",
       "      <td>False</td>\n",
       "      <td>False</td>\n",
       "      <td>True</td>\n",
       "      <td>False</td>\n",
       "      <td>False</td>\n",
       "      <td>False</td>\n",
       "      <td>False</td>\n",
       "    </tr>\n",
       "    <tr>\n",
       "      <th>2</th>\n",
       "      <td>['12', '28', '878']</td>\n",
       "      <td>10138</td>\n",
       "      <td>en</td>\n",
       "      <td>Iron Man 2</td>\n",
       "      <td>28.515</td>\n",
       "      <td>2010-05-07</td>\n",
       "      <td>Iron Man 2</td>\n",
       "      <td>6.8</td>\n",
       "      <td>12368</td>\n",
       "      <td>5</td>\n",
       "      <td>...</td>\n",
       "      <td>False</td>\n",
       "      <td>False</td>\n",
       "      <td>False</td>\n",
       "      <td>False</td>\n",
       "      <td>False</td>\n",
       "      <td>False</td>\n",
       "      <td>False</td>\n",
       "      <td>True</td>\n",
       "      <td>False</td>\n",
       "      <td>False</td>\n",
       "    </tr>\n",
       "    <tr>\n",
       "      <th>3</th>\n",
       "      <td>['16', '35', '10751']</td>\n",
       "      <td>862</td>\n",
       "      <td>en</td>\n",
       "      <td>Toy Story</td>\n",
       "      <td>28.005</td>\n",
       "      <td>1995-11-22</td>\n",
       "      <td>Toy Story</td>\n",
       "      <td>7.9</td>\n",
       "      <td>10174</td>\n",
       "      <td>11</td>\n",
       "      <td>...</td>\n",
       "      <td>False</td>\n",
       "      <td>False</td>\n",
       "      <td>False</td>\n",
       "      <td>False</td>\n",
       "      <td>False</td>\n",
       "      <td>True</td>\n",
       "      <td>False</td>\n",
       "      <td>False</td>\n",
       "      <td>False</td>\n",
       "      <td>False</td>\n",
       "    </tr>\n",
       "    <tr>\n",
       "      <th>4</th>\n",
       "      <td>['28', '878', '12']</td>\n",
       "      <td>27205</td>\n",
       "      <td>en</td>\n",
       "      <td>Inception</td>\n",
       "      <td>27.920</td>\n",
       "      <td>2010-07-16</td>\n",
       "      <td>Inception</td>\n",
       "      <td>8.3</td>\n",
       "      <td>22186</td>\n",
       "      <td>7</td>\n",
       "      <td>...</td>\n",
       "      <td>False</td>\n",
       "      <td>False</td>\n",
       "      <td>False</td>\n",
       "      <td>False</td>\n",
       "      <td>False</td>\n",
       "      <td>False</td>\n",
       "      <td>False</td>\n",
       "      <td>True</td>\n",
       "      <td>False</td>\n",
       "      <td>False</td>\n",
       "    </tr>\n",
       "  </tbody>\n",
       "</table>\n",
       "<p>5 rows × 30 columns</p>\n",
       "</div>"
      ],
      "text/plain": [
       "                     genre_ids     id original_language  \\\n",
       "0        ['12', '14', '10751']  12444                en   \n",
       "1  ['14', '12', '16', '10751']  10191                en   \n",
       "2          ['12', '28', '878']  10138                en   \n",
       "3        ['16', '35', '10751']    862                en   \n",
       "4          ['28', '878', '12']  27205                en   \n",
       "\n",
       "                                 original_title  popularity release_date  \\\n",
       "0  Harry Potter and the Deathly Hallows: Part 1      33.533   2010-11-19   \n",
       "1                      How to Train Your Dragon      28.734   2010-03-26   \n",
       "2                                    Iron Man 2      28.515   2010-05-07   \n",
       "3                                     Toy Story      28.005   1995-11-22   \n",
       "4                                     Inception      27.920   2010-07-16   \n",
       "\n",
       "                                          title  vote_average  vote_count  \\\n",
       "0  Harry Potter and the Deathly Hallows: Part 1           7.7       10788   \n",
       "1                      How to Train Your Dragon           7.7        7610   \n",
       "2                                    Iron Man 2           6.8       12368   \n",
       "3                                     Toy Story           7.9       10174   \n",
       "4                                     Inception           8.3       22186   \n",
       "\n",
       "   release_month  ...  Documentary  Drama  History  Mystery  Horror  \\\n",
       "0             11  ...        False  False    False    False   False   \n",
       "1              3  ...        False  False    False    False   False   \n",
       "2              5  ...        False  False    False    False   False   \n",
       "3             11  ...        False  False    False    False   False   \n",
       "4              7  ...        False  False    False    False   False   \n",
       "\n",
       "   Animation  Thriller  Action  TV Movie    War  \n",
       "0      False     False   False     False  False  \n",
       "1       True     False   False     False  False  \n",
       "2      False     False    True     False  False  \n",
       "3       True     False   False     False  False  \n",
       "4      False     False    True     False  False  \n",
       "\n",
       "[5 rows x 30 columns]"
      ]
     },
     "execution_count": 11,
     "metadata": {},
     "output_type": "execute_result"
    }
   ],
   "source": [
    "tmdb.head()"
   ]
  },
  {
   "cell_type": "code",
   "execution_count": 12,
   "metadata": {},
   "outputs": [
    {
     "data": {
      "text/html": [
       "<div>\n",
       "<style scoped>\n",
       "    .dataframe tbody tr th:only-of-type {\n",
       "        vertical-align: middle;\n",
       "    }\n",
       "\n",
       "    .dataframe tbody tr th {\n",
       "        vertical-align: top;\n",
       "    }\n",
       "\n",
       "    .dataframe thead th {\n",
       "        text-align: right;\n",
       "    }\n",
       "</style>\n",
       "<table border=\"1\" class=\"dataframe\">\n",
       "  <thead>\n",
       "    <tr style=\"text-align: right;\">\n",
       "      <th></th>\n",
       "      <th>id</th>\n",
       "      <th>popularity</th>\n",
       "      <th>vote_average</th>\n",
       "      <th>vote_count</th>\n",
       "      <th>release_month</th>\n",
       "    </tr>\n",
       "  </thead>\n",
       "  <tbody>\n",
       "    <tr>\n",
       "      <th>count</th>\n",
       "      <td>26517.000000</td>\n",
       "      <td>26517.000000</td>\n",
       "      <td>26517.000000</td>\n",
       "      <td>26517.000000</td>\n",
       "      <td>26517.000000</td>\n",
       "    </tr>\n",
       "    <tr>\n",
       "      <th>mean</th>\n",
       "      <td>295050.153260</td>\n",
       "      <td>3.130912</td>\n",
       "      <td>5.991281</td>\n",
       "      <td>194.224837</td>\n",
       "      <td>6.405966</td>\n",
       "    </tr>\n",
       "    <tr>\n",
       "      <th>std</th>\n",
       "      <td>153661.615648</td>\n",
       "      <td>4.355229</td>\n",
       "      <td>1.852946</td>\n",
       "      <td>960.961095</td>\n",
       "      <td>3.573796</td>\n",
       "    </tr>\n",
       "    <tr>\n",
       "      <th>min</th>\n",
       "      <td>27.000000</td>\n",
       "      <td>0.600000</td>\n",
       "      <td>0.000000</td>\n",
       "      <td>1.000000</td>\n",
       "      <td>1.000000</td>\n",
       "    </tr>\n",
       "    <tr>\n",
       "      <th>25%</th>\n",
       "      <td>157851.000000</td>\n",
       "      <td>0.600000</td>\n",
       "      <td>5.000000</td>\n",
       "      <td>2.000000</td>\n",
       "      <td>3.000000</td>\n",
       "    </tr>\n",
       "    <tr>\n",
       "      <th>50%</th>\n",
       "      <td>309581.000000</td>\n",
       "      <td>1.374000</td>\n",
       "      <td>6.000000</td>\n",
       "      <td>5.000000</td>\n",
       "      <td>6.000000</td>\n",
       "    </tr>\n",
       "    <tr>\n",
       "      <th>75%</th>\n",
       "      <td>419542.000000</td>\n",
       "      <td>3.694000</td>\n",
       "      <td>7.000000</td>\n",
       "      <td>28.000000</td>\n",
       "      <td>10.000000</td>\n",
       "    </tr>\n",
       "    <tr>\n",
       "      <th>max</th>\n",
       "      <td>608444.000000</td>\n",
       "      <td>80.773000</td>\n",
       "      <td>10.000000</td>\n",
       "      <td>22186.000000</td>\n",
       "      <td>12.000000</td>\n",
       "    </tr>\n",
       "  </tbody>\n",
       "</table>\n",
       "</div>"
      ],
      "text/plain": [
       "                  id    popularity  vote_average    vote_count  release_month\n",
       "count   26517.000000  26517.000000  26517.000000  26517.000000   26517.000000\n",
       "mean   295050.153260      3.130912      5.991281    194.224837       6.405966\n",
       "std    153661.615648      4.355229      1.852946    960.961095       3.573796\n",
       "min        27.000000      0.600000      0.000000      1.000000       1.000000\n",
       "25%    157851.000000      0.600000      5.000000      2.000000       3.000000\n",
       "50%    309581.000000      1.374000      6.000000      5.000000       6.000000\n",
       "75%    419542.000000      3.694000      7.000000     28.000000      10.000000\n",
       "max    608444.000000     80.773000     10.000000  22186.000000      12.000000"
      ]
     },
     "execution_count": 12,
     "metadata": {},
     "output_type": "execute_result"
    }
   ],
   "source": [
    "tmdb.describe()"
   ]
  },
  {
   "cell_type": "markdown",
   "metadata": {},
   "source": [
    "Here we can see that many of the movies have very few votes under vote count which may influence the overall rating for that movie. We should make sure that there are a reasonable amount of votes before continuing with our analysis"
   ]
  },
  {
   "cell_type": "code",
   "execution_count": 13,
   "metadata": {},
   "outputs": [
    {
     "name": "stdout",
     "output_type": "stream",
     "text": [
      "(3686, 30)\n"
     ]
    },
    {
     "data": {
      "text/html": [
       "<div>\n",
       "<style scoped>\n",
       "    .dataframe tbody tr th:only-of-type {\n",
       "        vertical-align: middle;\n",
       "    }\n",
       "\n",
       "    .dataframe tbody tr th {\n",
       "        vertical-align: top;\n",
       "    }\n",
       "\n",
       "    .dataframe thead th {\n",
       "        text-align: right;\n",
       "    }\n",
       "</style>\n",
       "<table border=\"1\" class=\"dataframe\">\n",
       "  <thead>\n",
       "    <tr style=\"text-align: right;\">\n",
       "      <th></th>\n",
       "      <th>id</th>\n",
       "      <th>popularity</th>\n",
       "      <th>vote_average</th>\n",
       "      <th>vote_count</th>\n",
       "      <th>release_month</th>\n",
       "    </tr>\n",
       "  </thead>\n",
       "  <tbody>\n",
       "    <tr>\n",
       "      <th>count</th>\n",
       "      <td>3686.000000</td>\n",
       "      <td>3686.000000</td>\n",
       "      <td>3686.000000</td>\n",
       "      <td>3686.000000</td>\n",
       "      <td>3686.000000</td>\n",
       "    </tr>\n",
       "    <tr>\n",
       "      <th>mean</th>\n",
       "      <td>223283.718394</td>\n",
       "      <td>11.281023</td>\n",
       "      <td>6.389392</td>\n",
       "      <td>1325.535269</td>\n",
       "      <td>6.974498</td>\n",
       "    </tr>\n",
       "    <tr>\n",
       "      <th>std</th>\n",
       "      <td>144382.238450</td>\n",
       "      <td>6.196958</td>\n",
       "      <td>0.862305</td>\n",
       "      <td>2270.643058</td>\n",
       "      <td>3.449799</td>\n",
       "    </tr>\n",
       "    <tr>\n",
       "      <th>min</th>\n",
       "      <td>27.000000</td>\n",
       "      <td>0.600000</td>\n",
       "      <td>2.000000</td>\n",
       "      <td>100.000000</td>\n",
       "      <td>1.000000</td>\n",
       "    </tr>\n",
       "    <tr>\n",
       "      <th>25%</th>\n",
       "      <td>78090.500000</td>\n",
       "      <td>7.557750</td>\n",
       "      <td>5.800000</td>\n",
       "      <td>186.000000</td>\n",
       "      <td>4.000000</td>\n",
       "    </tr>\n",
       "    <tr>\n",
       "      <th>50%</th>\n",
       "      <td>234102.000000</td>\n",
       "      <td>9.395000</td>\n",
       "      <td>6.400000</td>\n",
       "      <td>422.000000</td>\n",
       "      <td>7.000000</td>\n",
       "    </tr>\n",
       "    <tr>\n",
       "      <th>75%</th>\n",
       "      <td>339966.250000</td>\n",
       "      <td>12.894000</td>\n",
       "      <td>7.000000</td>\n",
       "      <td>1306.000000</td>\n",
       "      <td>10.000000</td>\n",
       "    </tr>\n",
       "    <tr>\n",
       "      <th>max</th>\n",
       "      <td>569547.000000</td>\n",
       "      <td>80.773000</td>\n",
       "      <td>8.600000</td>\n",
       "      <td>22186.000000</td>\n",
       "      <td>12.000000</td>\n",
       "    </tr>\n",
       "  </tbody>\n",
       "</table>\n",
       "</div>"
      ],
      "text/plain": [
       "                  id   popularity  vote_average    vote_count  release_month\n",
       "count    3686.000000  3686.000000   3686.000000   3686.000000    3686.000000\n",
       "mean   223283.718394    11.281023      6.389392   1325.535269       6.974498\n",
       "std    144382.238450     6.196958      0.862305   2270.643058       3.449799\n",
       "min        27.000000     0.600000      2.000000    100.000000       1.000000\n",
       "25%     78090.500000     7.557750      5.800000    186.000000       4.000000\n",
       "50%    234102.000000     9.395000      6.400000    422.000000       7.000000\n",
       "75%    339966.250000    12.894000      7.000000   1306.000000      10.000000\n",
       "max    569547.000000    80.773000      8.600000  22186.000000      12.000000"
      ]
     },
     "execution_count": 13,
     "metadata": {},
     "output_type": "execute_result"
    }
   ],
   "source": [
    "# remove rows where there are fewer than 28 votes\n",
    "tmdb_final = tmdb.query('vote_count >= 100').copy()\n",
    "print(tmdb_final.shape)\n",
    "tmdb_final.describe()"
   ]
  },
  {
   "cell_type": "markdown",
   "metadata": {},
   "source": [
    "### Movie Budgets"
   ]
  },
  {
   "cell_type": "code",
   "execution_count": 14,
   "metadata": {},
   "outputs": [
    {
     "name": "stdout",
     "output_type": "stream",
     "text": [
      "(5782, 6)\n"
     ]
    },
    {
     "data": {
      "text/html": [
       "<div>\n",
       "<style scoped>\n",
       "    .dataframe tbody tr th:only-of-type {\n",
       "        vertical-align: middle;\n",
       "    }\n",
       "\n",
       "    .dataframe tbody tr th {\n",
       "        vertical-align: top;\n",
       "    }\n",
       "\n",
       "    .dataframe thead th {\n",
       "        text-align: right;\n",
       "    }\n",
       "</style>\n",
       "<table border=\"1\" class=\"dataframe\">\n",
       "  <thead>\n",
       "    <tr style=\"text-align: right;\">\n",
       "      <th></th>\n",
       "      <th>id</th>\n",
       "      <th>release_date</th>\n",
       "      <th>movie</th>\n",
       "      <th>production_budget</th>\n",
       "      <th>domestic_gross</th>\n",
       "      <th>worldwide_gross</th>\n",
       "    </tr>\n",
       "  </thead>\n",
       "  <tbody>\n",
       "    <tr>\n",
       "      <th>0</th>\n",
       "      <td>1</td>\n",
       "      <td>Dec 18, 2009</td>\n",
       "      <td>Avatar</td>\n",
       "      <td>$425,000,000</td>\n",
       "      <td>$760,507,625</td>\n",
       "      <td>$2,776,345,279</td>\n",
       "    </tr>\n",
       "    <tr>\n",
       "      <th>1</th>\n",
       "      <td>2</td>\n",
       "      <td>May 20, 2011</td>\n",
       "      <td>Pirates of the Caribbean: On Stranger Tides</td>\n",
       "      <td>$410,600,000</td>\n",
       "      <td>$241,063,875</td>\n",
       "      <td>$1,045,663,875</td>\n",
       "    </tr>\n",
       "    <tr>\n",
       "      <th>2</th>\n",
       "      <td>3</td>\n",
       "      <td>Jun 7, 2019</td>\n",
       "      <td>Dark Phoenix</td>\n",
       "      <td>$350,000,000</td>\n",
       "      <td>$42,762,350</td>\n",
       "      <td>$149,762,350</td>\n",
       "    </tr>\n",
       "    <tr>\n",
       "      <th>3</th>\n",
       "      <td>4</td>\n",
       "      <td>May 1, 2015</td>\n",
       "      <td>Avengers: Age of Ultron</td>\n",
       "      <td>$330,600,000</td>\n",
       "      <td>$459,005,868</td>\n",
       "      <td>$1,403,013,963</td>\n",
       "    </tr>\n",
       "    <tr>\n",
       "      <th>4</th>\n",
       "      <td>5</td>\n",
       "      <td>Dec 15, 2017</td>\n",
       "      <td>Star Wars Ep. VIII: The Last Jedi</td>\n",
       "      <td>$317,000,000</td>\n",
       "      <td>$620,181,382</td>\n",
       "      <td>$1,316,721,747</td>\n",
       "    </tr>\n",
       "  </tbody>\n",
       "</table>\n",
       "</div>"
      ],
      "text/plain": [
       "   id  release_date                                        movie  \\\n",
       "0   1  Dec 18, 2009                                       Avatar   \n",
       "1   2  May 20, 2011  Pirates of the Caribbean: On Stranger Tides   \n",
       "2   3   Jun 7, 2019                                 Dark Phoenix   \n",
       "3   4   May 1, 2015                      Avengers: Age of Ultron   \n",
       "4   5  Dec 15, 2017            Star Wars Ep. VIII: The Last Jedi   \n",
       "\n",
       "  production_budget domestic_gross worldwide_gross  \n",
       "0      $425,000,000   $760,507,625  $2,776,345,279  \n",
       "1      $410,600,000   $241,063,875  $1,045,663,875  \n",
       "2      $350,000,000    $42,762,350    $149,762,350  \n",
       "3      $330,600,000   $459,005,868  $1,403,013,963  \n",
       "4      $317,000,000   $620,181,382  $1,316,721,747  "
      ]
     },
     "execution_count": 14,
     "metadata": {},
     "output_type": "execute_result"
    }
   ],
   "source": [
    "movie_budgets = pd.read_csv('Data/tn.movie_budgets.csv')\n",
    "print(movie_budgets.shape)\n",
    "movie_budgets.head()"
   ]
  },
  {
   "cell_type": "code",
   "execution_count": 15,
   "metadata": {},
   "outputs": [
    {
     "data": {
      "text/plain": [
       "id                   False\n",
       "release_date         False\n",
       "movie                False\n",
       "production_budget    False\n",
       "domestic_gross       False\n",
       "worldwide_gross      False\n",
       "dtype: bool"
      ]
     },
     "execution_count": 15,
     "metadata": {},
     "output_type": "execute_result"
    }
   ],
   "source": [
    "movie_budgets.isna().any()"
   ]
  },
  {
   "cell_type": "code",
   "execution_count": 16,
   "metadata": {},
   "outputs": [
    {
     "name": "stdout",
     "output_type": "stream",
     "text": [
      "<class 'pandas.core.frame.DataFrame'>\n",
      "RangeIndex: 5782 entries, 0 to 5781\n",
      "Data columns (total 6 columns):\n",
      " #   Column             Non-Null Count  Dtype \n",
      "---  ------             --------------  ----- \n",
      " 0   id                 5782 non-null   int64 \n",
      " 1   release_date       5782 non-null   object\n",
      " 2   movie              5782 non-null   object\n",
      " 3   production_budget  5782 non-null   object\n",
      " 4   domestic_gross     5782 non-null   object\n",
      " 5   worldwide_gross    5782 non-null   object\n",
      "dtypes: int64(1), object(5)\n",
      "memory usage: 271.2+ KB\n"
     ]
    }
   ],
   "source": [
    "movie_budgets.info()"
   ]
  },
  {
   "cell_type": "code",
   "execution_count": 17,
   "metadata": {},
   "outputs": [],
   "source": [
    "movie_budgets['production_budget'] = (movie_budgets['production_budget']\n",
    "                                      .str.replace(',', '')\n",
    "                                      .str.replace('$', '')\n",
    "                                      .astype(float))\n",
    "\n",
    "movie_budgets['domestic_gross'] = (movie_budgets['domestic_gross']\n",
    "                                   .str.replace(',', '')\n",
    "                                   .str.replace('$', '')\n",
    "                                   .astype(float))\n",
    "\n",
    "movie_budgets['worldwide_gross'] = (movie_budgets['worldwide_gross']\n",
    "                                    .str.replace(',', '')\n",
    "                                    .str.replace('$', '')\n",
    "                                    .astype(float))"
   ]
  },
  {
   "cell_type": "code",
   "execution_count": 18,
   "metadata": {},
   "outputs": [],
   "source": [
    "movie_budgets['release_date'] = pd.to_datetime(movie_budgets['release_date'])"
   ]
  },
  {
   "cell_type": "markdown",
   "metadata": {},
   "source": [
    "### Combined TMDB and Budgets"
   ]
  },
  {
   "cell_type": "code",
   "execution_count": 19,
   "metadata": {},
   "outputs": [],
   "source": [
    "tmdb_with_budgets = pd.merge(tmdb, movie_budgets,  how='inner', left_on=['title','release_date'], right_on = ['movie','release_date'])"
   ]
  },
  {
   "cell_type": "code",
   "execution_count": 20,
   "metadata": {},
   "outputs": [],
   "source": [
    "tmdb_with_budgets['income'] = tmdb_with_budgets.worldwide_gross - tmdb_with_budgets.production_budget"
   ]
  },
  {
   "cell_type": "code",
   "execution_count": 21,
   "metadata": {},
   "outputs": [
    {
     "data": {
      "text/html": [
       "<div>\n",
       "<style scoped>\n",
       "    .dataframe tbody tr th:only-of-type {\n",
       "        vertical-align: middle;\n",
       "    }\n",
       "\n",
       "    .dataframe tbody tr th {\n",
       "        vertical-align: top;\n",
       "    }\n",
       "\n",
       "    .dataframe thead th {\n",
       "        text-align: right;\n",
       "    }\n",
       "</style>\n",
       "<table border=\"1\" class=\"dataframe\">\n",
       "  <thead>\n",
       "    <tr style=\"text-align: right;\">\n",
       "      <th></th>\n",
       "      <th>genre_ids</th>\n",
       "      <th>id_x</th>\n",
       "      <th>original_language</th>\n",
       "      <th>original_title</th>\n",
       "      <th>popularity</th>\n",
       "      <th>release_date</th>\n",
       "      <th>title</th>\n",
       "      <th>vote_average</th>\n",
       "      <th>vote_count</th>\n",
       "      <th>release_month</th>\n",
       "      <th>...</th>\n",
       "      <th>Thriller</th>\n",
       "      <th>Action</th>\n",
       "      <th>TV Movie</th>\n",
       "      <th>War</th>\n",
       "      <th>id_y</th>\n",
       "      <th>movie</th>\n",
       "      <th>production_budget</th>\n",
       "      <th>domestic_gross</th>\n",
       "      <th>worldwide_gross</th>\n",
       "      <th>income</th>\n",
       "    </tr>\n",
       "  </thead>\n",
       "  <tbody>\n",
       "    <tr>\n",
       "      <th>5</th>\n",
       "      <td>['28', '12', '14', '878']</td>\n",
       "      <td>19995</td>\n",
       "      <td>en</td>\n",
       "      <td>Avatar</td>\n",
       "      <td>26.526</td>\n",
       "      <td>2009-12-18</td>\n",
       "      <td>Avatar</td>\n",
       "      <td>7.4</td>\n",
       "      <td>18676</td>\n",
       "      <td>12</td>\n",
       "      <td>...</td>\n",
       "      <td>False</td>\n",
       "      <td>True</td>\n",
       "      <td>False</td>\n",
       "      <td>False</td>\n",
       "      <td>1</td>\n",
       "      <td>Avatar</td>\n",
       "      <td>425000000.0</td>\n",
       "      <td>760507625.0</td>\n",
       "      <td>2.776345e+09</td>\n",
       "      <td>2.351345e+09</td>\n",
       "    </tr>\n",
       "    <tr>\n",
       "      <th>1285</th>\n",
       "      <td>['12', '28', '14']</td>\n",
       "      <td>299536</td>\n",
       "      <td>en</td>\n",
       "      <td>Avengers: Infinity War</td>\n",
       "      <td>80.773</td>\n",
       "      <td>2018-04-27</td>\n",
       "      <td>Avengers: Infinity War</td>\n",
       "      <td>8.3</td>\n",
       "      <td>13948</td>\n",
       "      <td>4</td>\n",
       "      <td>...</td>\n",
       "      <td>False</td>\n",
       "      <td>True</td>\n",
       "      <td>False</td>\n",
       "      <td>False</td>\n",
       "      <td>7</td>\n",
       "      <td>Avengers: Infinity War</td>\n",
       "      <td>300000000.0</td>\n",
       "      <td>678815482.0</td>\n",
       "      <td>2.048134e+09</td>\n",
       "      <td>1.748134e+09</td>\n",
       "    </tr>\n",
       "    <tr>\n",
       "      <th>755</th>\n",
       "      <td>['28', '12', '878', '53']</td>\n",
       "      <td>135397</td>\n",
       "      <td>en</td>\n",
       "      <td>Jurassic World</td>\n",
       "      <td>20.709</td>\n",
       "      <td>2015-06-12</td>\n",
       "      <td>Jurassic World</td>\n",
       "      <td>6.6</td>\n",
       "      <td>14056</td>\n",
       "      <td>6</td>\n",
       "      <td>...</td>\n",
       "      <td>True</td>\n",
       "      <td>True</td>\n",
       "      <td>False</td>\n",
       "      <td>False</td>\n",
       "      <td>34</td>\n",
       "      <td>Jurassic World</td>\n",
       "      <td>215000000.0</td>\n",
       "      <td>652270625.0</td>\n",
       "      <td>1.648855e+09</td>\n",
       "      <td>1.433855e+09</td>\n",
       "    </tr>\n",
       "    <tr>\n",
       "      <th>760</th>\n",
       "      <td>['28', '80', '53']</td>\n",
       "      <td>168259</td>\n",
       "      <td>en</td>\n",
       "      <td>Furious 7</td>\n",
       "      <td>20.396</td>\n",
       "      <td>2015-04-03</td>\n",
       "      <td>Furious 7</td>\n",
       "      <td>7.3</td>\n",
       "      <td>6538</td>\n",
       "      <td>4</td>\n",
       "      <td>...</td>\n",
       "      <td>True</td>\n",
       "      <td>True</td>\n",
       "      <td>False</td>\n",
       "      <td>False</td>\n",
       "      <td>67</td>\n",
       "      <td>Furious 7</td>\n",
       "      <td>190000000.0</td>\n",
       "      <td>353007020.0</td>\n",
       "      <td>1.518723e+09</td>\n",
       "      <td>1.328723e+09</td>\n",
       "    </tr>\n",
       "    <tr>\n",
       "      <th>297</th>\n",
       "      <td>['878', '28', '12']</td>\n",
       "      <td>24428</td>\n",
       "      <td>en</td>\n",
       "      <td>The Avengers</td>\n",
       "      <td>50.289</td>\n",
       "      <td>2012-05-04</td>\n",
       "      <td>The Avengers</td>\n",
       "      <td>7.6</td>\n",
       "      <td>19673</td>\n",
       "      <td>5</td>\n",
       "      <td>...</td>\n",
       "      <td>False</td>\n",
       "      <td>True</td>\n",
       "      <td>False</td>\n",
       "      <td>False</td>\n",
       "      <td>27</td>\n",
       "      <td>The Avengers</td>\n",
       "      <td>225000000.0</td>\n",
       "      <td>623279547.0</td>\n",
       "      <td>1.517936e+09</td>\n",
       "      <td>1.292936e+09</td>\n",
       "    </tr>\n",
       "    <tr>\n",
       "      <th>...</th>\n",
       "      <td>...</td>\n",
       "      <td>...</td>\n",
       "      <td>...</td>\n",
       "      <td>...</td>\n",
       "      <td>...</td>\n",
       "      <td>...</td>\n",
       "      <td>...</td>\n",
       "      <td>...</td>\n",
       "      <td>...</td>\n",
       "      <td>...</td>\n",
       "      <td>...</td>\n",
       "      <td>...</td>\n",
       "      <td>...</td>\n",
       "      <td>...</td>\n",
       "      <td>...</td>\n",
       "      <td>...</td>\n",
       "      <td>...</td>\n",
       "      <td>...</td>\n",
       "      <td>...</td>\n",
       "      <td>...</td>\n",
       "      <td>...</td>\n",
       "    </tr>\n",
       "    <tr>\n",
       "      <th>1392</th>\n",
       "      <td>['18', '10752', '28', '12']</td>\n",
       "      <td>345934</td>\n",
       "      <td>en</td>\n",
       "      <td>Air Strike</td>\n",
       "      <td>6.971</td>\n",
       "      <td>2018-10-26</td>\n",
       "      <td>Air Strike</td>\n",
       "      <td>3.9</td>\n",
       "      <td>56</td>\n",
       "      <td>10</td>\n",
       "      <td>...</td>\n",
       "      <td>False</td>\n",
       "      <td>True</td>\n",
       "      <td>False</td>\n",
       "      <td>True</td>\n",
       "      <td>21</td>\n",
       "      <td>Air Strike</td>\n",
       "      <td>65000000.0</td>\n",
       "      <td>0.0</td>\n",
       "      <td>5.162790e+05</td>\n",
       "      <td>-6.448372e+07</td>\n",
       "    </tr>\n",
       "    <tr>\n",
       "      <th>106</th>\n",
       "      <td>['10402', '14', '28', '10751']</td>\n",
       "      <td>49852</td>\n",
       "      <td>en</td>\n",
       "      <td>The Nutcracker in 3D</td>\n",
       "      <td>7.566</td>\n",
       "      <td>2010-11-24</td>\n",
       "      <td>The Nutcracker in 3D</td>\n",
       "      <td>5.5</td>\n",
       "      <td>97</td>\n",
       "      <td>11</td>\n",
       "      <td>...</td>\n",
       "      <td>False</td>\n",
       "      <td>True</td>\n",
       "      <td>False</td>\n",
       "      <td>False</td>\n",
       "      <td>79</td>\n",
       "      <td>The Nutcracker in 3D</td>\n",
       "      <td>90000000.0</td>\n",
       "      <td>195459.0</td>\n",
       "      <td>2.046602e+07</td>\n",
       "      <td>-6.953398e+07</td>\n",
       "    </tr>\n",
       "    <tr>\n",
       "      <th>1061</th>\n",
       "      <td>['36', '10749', '18']</td>\n",
       "      <td>354859</td>\n",
       "      <td>en</td>\n",
       "      <td>The Promise</td>\n",
       "      <td>10.158</td>\n",
       "      <td>2017-04-21</td>\n",
       "      <td>The Promise</td>\n",
       "      <td>7.1</td>\n",
       "      <td>195</td>\n",
       "      <td>4</td>\n",
       "      <td>...</td>\n",
       "      <td>False</td>\n",
       "      <td>False</td>\n",
       "      <td>False</td>\n",
       "      <td>False</td>\n",
       "      <td>78</td>\n",
       "      <td>The Promise</td>\n",
       "      <td>90000000.0</td>\n",
       "      <td>8224288.0</td>\n",
       "      <td>1.055142e+07</td>\n",
       "      <td>-7.944858e+07</td>\n",
       "    </tr>\n",
       "    <tr>\n",
       "      <th>1062</th>\n",
       "      <td>['36', '10749', '18']</td>\n",
       "      <td>354859</td>\n",
       "      <td>en</td>\n",
       "      <td>The Promise</td>\n",
       "      <td>10.158</td>\n",
       "      <td>2017-04-21</td>\n",
       "      <td>The Promise</td>\n",
       "      <td>7.1</td>\n",
       "      <td>195</td>\n",
       "      <td>4</td>\n",
       "      <td>...</td>\n",
       "      <td>False</td>\n",
       "      <td>False</td>\n",
       "      <td>False</td>\n",
       "      <td>False</td>\n",
       "      <td>78</td>\n",
       "      <td>The Promise</td>\n",
       "      <td>90000000.0</td>\n",
       "      <td>8224288.0</td>\n",
       "      <td>1.055142e+07</td>\n",
       "      <td>-7.944858e+07</td>\n",
       "    </tr>\n",
       "    <tr>\n",
       "      <th>239</th>\n",
       "      <td>['12', '16', '10751']</td>\n",
       "      <td>50321</td>\n",
       "      <td>en</td>\n",
       "      <td>Mars Needs Moms</td>\n",
       "      <td>8.852</td>\n",
       "      <td>2011-03-11</td>\n",
       "      <td>Mars Needs Moms</td>\n",
       "      <td>5.7</td>\n",
       "      <td>299</td>\n",
       "      <td>3</td>\n",
       "      <td>...</td>\n",
       "      <td>False</td>\n",
       "      <td>False</td>\n",
       "      <td>False</td>\n",
       "      <td>False</td>\n",
       "      <td>94</td>\n",
       "      <td>Mars Needs Moms</td>\n",
       "      <td>150000000.0</td>\n",
       "      <td>21392758.0</td>\n",
       "      <td>3.954976e+07</td>\n",
       "      <td>-1.104502e+08</td>\n",
       "    </tr>\n",
       "  </tbody>\n",
       "</table>\n",
       "<p>1400 rows × 36 columns</p>\n",
       "</div>"
      ],
      "text/plain": [
       "                           genre_ids    id_x original_language  \\\n",
       "5          ['28', '12', '14', '878']   19995                en   \n",
       "1285              ['12', '28', '14']  299536                en   \n",
       "755        ['28', '12', '878', '53']  135397                en   \n",
       "760               ['28', '80', '53']  168259                en   \n",
       "297              ['878', '28', '12']   24428                en   \n",
       "...                              ...     ...               ...   \n",
       "1392     ['18', '10752', '28', '12']  345934                en   \n",
       "106   ['10402', '14', '28', '10751']   49852                en   \n",
       "1061           ['36', '10749', '18']  354859                en   \n",
       "1062           ['36', '10749', '18']  354859                en   \n",
       "239            ['12', '16', '10751']   50321                en   \n",
       "\n",
       "              original_title  popularity release_date                   title  \\\n",
       "5                     Avatar      26.526   2009-12-18                  Avatar   \n",
       "1285  Avengers: Infinity War      80.773   2018-04-27  Avengers: Infinity War   \n",
       "755           Jurassic World      20.709   2015-06-12          Jurassic World   \n",
       "760                Furious 7      20.396   2015-04-03               Furious 7   \n",
       "297             The Avengers      50.289   2012-05-04            The Avengers   \n",
       "...                      ...         ...          ...                     ...   \n",
       "1392              Air Strike       6.971   2018-10-26              Air Strike   \n",
       "106     The Nutcracker in 3D       7.566   2010-11-24    The Nutcracker in 3D   \n",
       "1061             The Promise      10.158   2017-04-21             The Promise   \n",
       "1062             The Promise      10.158   2017-04-21             The Promise   \n",
       "239          Mars Needs Moms       8.852   2011-03-11         Mars Needs Moms   \n",
       "\n",
       "      vote_average  vote_count  release_month  ...  Thriller  Action  \\\n",
       "5              7.4       18676             12  ...     False    True   \n",
       "1285           8.3       13948              4  ...     False    True   \n",
       "755            6.6       14056              6  ...      True    True   \n",
       "760            7.3        6538              4  ...      True    True   \n",
       "297            7.6       19673              5  ...     False    True   \n",
       "...            ...         ...            ...  ...       ...     ...   \n",
       "1392           3.9          56             10  ...     False    True   \n",
       "106            5.5          97             11  ...     False    True   \n",
       "1061           7.1         195              4  ...     False   False   \n",
       "1062           7.1         195              4  ...     False   False   \n",
       "239            5.7         299              3  ...     False   False   \n",
       "\n",
       "      TV Movie    War  id_y                   movie  production_budget  \\\n",
       "5        False  False     1                  Avatar        425000000.0   \n",
       "1285     False  False     7  Avengers: Infinity War        300000000.0   \n",
       "755      False  False    34          Jurassic World        215000000.0   \n",
       "760      False  False    67               Furious 7        190000000.0   \n",
       "297      False  False    27            The Avengers        225000000.0   \n",
       "...        ...    ...   ...                     ...                ...   \n",
       "1392     False   True    21              Air Strike         65000000.0   \n",
       "106      False  False    79    The Nutcracker in 3D         90000000.0   \n",
       "1061     False  False    78             The Promise         90000000.0   \n",
       "1062     False  False    78             The Promise         90000000.0   \n",
       "239      False  False    94         Mars Needs Moms        150000000.0   \n",
       "\n",
       "      domestic_gross  worldwide_gross        income  \n",
       "5        760507625.0     2.776345e+09  2.351345e+09  \n",
       "1285     678815482.0     2.048134e+09  1.748134e+09  \n",
       "755      652270625.0     1.648855e+09  1.433855e+09  \n",
       "760      353007020.0     1.518723e+09  1.328723e+09  \n",
       "297      623279547.0     1.517936e+09  1.292936e+09  \n",
       "...              ...              ...           ...  \n",
       "1392             0.0     5.162790e+05 -6.448372e+07  \n",
       "106         195459.0     2.046602e+07 -6.953398e+07  \n",
       "1061       8224288.0     1.055142e+07 -7.944858e+07  \n",
       "1062       8224288.0     1.055142e+07 -7.944858e+07  \n",
       "239       21392758.0     3.954976e+07 -1.104502e+08  \n",
       "\n",
       "[1400 rows x 36 columns]"
      ]
     },
     "execution_count": 21,
     "metadata": {},
     "output_type": "execute_result"
    }
   ],
   "source": [
    "tmdb_with_budgets.sort_values('income', ascending=False)"
   ]
  },
  {
   "cell_type": "code",
   "execution_count": 22,
   "metadata": {},
   "outputs": [
    {
     "data": {
      "text/plain": [
       "Text(0.5, 1.0, 'Production Budget and Income')"
      ]
     },
     "execution_count": 22,
     "metadata": {},
     "output_type": "execute_result"
    },
    {
     "data": {
      "image/png": "[encoded data removed]",
      "text/plain": [
       "<Figure size 1008x648 with 1 Axes>"
      ]
     },
     "metadata": {
      "needs_background": "light"
     },
     "output_type": "display_data"
    }
   ],
   "source": [
    "fig, ax = plt.subplots(figsize = (14, 9))\n",
    "\n",
    "sns.scatterplot(data=tmdb_with_budgets.query('vote_count > 1000'),\n",
    "                x='production_budget',\n",
    "                y='income',\n",
    "                size='popularity',\n",
    "                hue='popularity',\n",
    "                ax=ax,\n",
    "                palette='mako_r');\n",
    "\n",
    "ax.set_xlabel(\"Production Budget in Hundred Millions\")\n",
    "ax.set_ylabel(\"Income in Billions\")\n",
    "ax.set_title('Production Budget and Income')"
   ]
  },
  {
   "cell_type": "code",
   "execution_count": 23,
   "metadata": {},
   "outputs": [
    {
     "data": {
      "text/html": [
       "<div>\n",
       "<style scoped>\n",
       "    .dataframe tbody tr th:only-of-type {\n",
       "        vertical-align: middle;\n",
       "    }\n",
       "\n",
       "    .dataframe tbody tr th {\n",
       "        vertical-align: top;\n",
       "    }\n",
       "\n",
       "    .dataframe thead th {\n",
       "        text-align: right;\n",
       "    }\n",
       "</style>\n",
       "<table border=\"1\" class=\"dataframe\">\n",
       "  <thead>\n",
       "    <tr style=\"text-align: right;\">\n",
       "      <th></th>\n",
       "      <th>production_budget</th>\n",
       "      <th>income</th>\n",
       "    </tr>\n",
       "  </thead>\n",
       "  <tbody>\n",
       "    <tr>\n",
       "      <th>production_budget</th>\n",
       "      <td>1.00000</td>\n",
       "      <td>0.67949</td>\n",
       "    </tr>\n",
       "    <tr>\n",
       "      <th>income</th>\n",
       "      <td>0.67949</td>\n",
       "      <td>1.00000</td>\n",
       "    </tr>\n",
       "  </tbody>\n",
       "</table>\n",
       "</div>"
      ],
      "text/plain": [
       "                   production_budget   income\n",
       "production_budget            1.00000  0.67949\n",
       "income                       0.67949  1.00000"
      ]
     },
     "execution_count": 23,
     "metadata": {},
     "output_type": "execute_result"
    }
   ],
   "source": [
    "tmdb_with_budgets[['production_budget', 'income']].corr()"
   ]
  },
  {
   "cell_type": "code",
   "execution_count": 24,
   "metadata": {},
   "outputs": [
    {
     "data": {
      "text/html": [
       "<div>\n",
       "<style scoped>\n",
       "    .dataframe tbody tr th:only-of-type {\n",
       "        vertical-align: middle;\n",
       "    }\n",
       "\n",
       "    .dataframe tbody tr th {\n",
       "        vertical-align: top;\n",
       "    }\n",
       "\n",
       "    .dataframe thead th {\n",
       "        text-align: right;\n",
       "    }\n",
       "</style>\n",
       "<table border=\"1\" class=\"dataframe\">\n",
       "  <thead>\n",
       "    <tr style=\"text-align: right;\">\n",
       "      <th></th>\n",
       "      <th>genre_id</th>\n",
       "      <th>vote_average</th>\n",
       "      <th>popularity</th>\n",
       "      <th>vote_count</th>\n",
       "      <th>production_budget</th>\n",
       "      <th>domestic_gross</th>\n",
       "      <th>worldwide_gross</th>\n",
       "      <th>income</th>\n",
       "    </tr>\n",
       "  </thead>\n",
       "  <tbody>\n",
       "    <tr>\n",
       "      <th>0</th>\n",
       "      <td>14</td>\n",
       "      <td>7.7</td>\n",
       "      <td>28.734</td>\n",
       "      <td>7610</td>\n",
       "      <td>165000000.0</td>\n",
       "      <td>217581232.0</td>\n",
       "      <td>494870992.0</td>\n",
       "      <td>329870992.0</td>\n",
       "    </tr>\n",
       "    <tr>\n",
       "      <th>1</th>\n",
       "      <td>12</td>\n",
       "      <td>7.7</td>\n",
       "      <td>28.734</td>\n",
       "      <td>7610</td>\n",
       "      <td>165000000.0</td>\n",
       "      <td>217581232.0</td>\n",
       "      <td>494870992.0</td>\n",
       "      <td>329870992.0</td>\n",
       "    </tr>\n",
       "    <tr>\n",
       "      <th>2</th>\n",
       "      <td>16</td>\n",
       "      <td>7.7</td>\n",
       "      <td>28.734</td>\n",
       "      <td>7610</td>\n",
       "      <td>165000000.0</td>\n",
       "      <td>217581232.0</td>\n",
       "      <td>494870992.0</td>\n",
       "      <td>329870992.0</td>\n",
       "    </tr>\n",
       "    <tr>\n",
       "      <th>3</th>\n",
       "      <td>10751</td>\n",
       "      <td>7.7</td>\n",
       "      <td>28.734</td>\n",
       "      <td>7610</td>\n",
       "      <td>165000000.0</td>\n",
       "      <td>217581232.0</td>\n",
       "      <td>494870992.0</td>\n",
       "      <td>329870992.0</td>\n",
       "    </tr>\n",
       "    <tr>\n",
       "      <th>4</th>\n",
       "      <td>12</td>\n",
       "      <td>6.8</td>\n",
       "      <td>28.515</td>\n",
       "      <td>12368</td>\n",
       "      <td>170000000.0</td>\n",
       "      <td>312433331.0</td>\n",
       "      <td>621156389.0</td>\n",
       "      <td>451156389.0</td>\n",
       "    </tr>\n",
       "  </tbody>\n",
       "</table>\n",
       "</div>"
      ],
      "text/plain": [
       "  genre_id  vote_average  popularity  vote_count  production_budget  \\\n",
       "0       14           7.7      28.734        7610        165000000.0   \n",
       "1       12           7.7      28.734        7610        165000000.0   \n",
       "2       16           7.7      28.734        7610        165000000.0   \n",
       "3    10751           7.7      28.734        7610        165000000.0   \n",
       "4       12           6.8      28.515       12368        170000000.0   \n",
       "\n",
       "   domestic_gross  worldwide_gross       income  \n",
       "0     217581232.0      494870992.0  329870992.0  \n",
       "1     217581232.0      494870992.0  329870992.0  \n",
       "2     217581232.0      494870992.0  329870992.0  \n",
       "3     217581232.0      494870992.0  329870992.0  \n",
       "4     312433331.0      621156389.0  451156389.0  "
      ]
     },
     "execution_count": 24,
     "metadata": {},
     "output_type": "execute_result"
    }
   ],
   "source": [
    "genres_with_budgets = popularity_by_genre.merge(tmdb_with_budgets, how='inner', left_on='id', right_on='id_x')\n",
    "\n",
    "columns = ['genre_ids_x',\n",
    "           'vote_average_x',\n",
    "           'popularity',\n",
    "           'vote_count',\n",
    "           'production_budget',\n",
    "           'domestic_gross',\n",
    "           'worldwide_gross',\n",
    "           'income']\n",
    "\n",
    "genres_with_budgets = genres_with_budgets[columns]\n",
    "genres_with_budgets = genres_with_budgets.rename({'genre_ids_x': 'genre_id', 'vote_average_x': 'vote_average'}, axis=1)\n",
    "genres_with_budgets.head()"
   ]
  },
  {
   "cell_type": "code",
   "execution_count": 25,
   "metadata": {},
   "outputs": [
    {
     "data": {
      "text/html": [
       "<div>\n",
       "<style scoped>\n",
       "    .dataframe tbody tr th:only-of-type {\n",
       "        vertical-align: middle;\n",
       "    }\n",
       "\n",
       "    .dataframe tbody tr th {\n",
       "        vertical-align: top;\n",
       "    }\n",
       "\n",
       "    .dataframe thead th {\n",
       "        text-align: right;\n",
       "    }\n",
       "</style>\n",
       "<table border=\"1\" class=\"dataframe\">\n",
       "  <thead>\n",
       "    <tr style=\"text-align: right;\">\n",
       "      <th></th>\n",
       "      <th>vote_average</th>\n",
       "      <th>popularity</th>\n",
       "      <th>vote_count</th>\n",
       "      <th>production_budget</th>\n",
       "      <th>domestic_gross</th>\n",
       "      <th>worldwide_gross</th>\n",
       "      <th>income</th>\n",
       "    </tr>\n",
       "    <tr>\n",
       "      <th>genre_id</th>\n",
       "      <th></th>\n",
       "      <th></th>\n",
       "      <th></th>\n",
       "      <th></th>\n",
       "      <th></th>\n",
       "      <th></th>\n",
       "      <th></th>\n",
       "    </tr>\n",
       "  </thead>\n",
       "  <tbody>\n",
       "    <tr>\n",
       "      <th>Animation</th>\n",
       "      <td>6.711111</td>\n",
       "      <td>16.240342</td>\n",
       "      <td>3424.880342</td>\n",
       "      <td>9.518376e+07</td>\n",
       "      <td>1.378979e+08</td>\n",
       "      <td>3.739110e+08</td>\n",
       "      <td>2.787272e+08</td>\n",
       "    </tr>\n",
       "    <tr>\n",
       "      <th>Adventure</th>\n",
       "      <td>6.504230</td>\n",
       "      <td>19.323686</td>\n",
       "      <td>4654.873112</td>\n",
       "      <td>1.134583e+08</td>\n",
       "      <td>1.374754e+08</td>\n",
       "      <td>3.907087e+08</td>\n",
       "      <td>2.772504e+08</td>\n",
       "    </tr>\n",
       "    <tr>\n",
       "      <th>Fantasy</th>\n",
       "      <td>6.394118</td>\n",
       "      <td>19.281417</td>\n",
       "      <td>4215.647059</td>\n",
       "      <td>1.040430e+08</td>\n",
       "      <td>1.270266e+08</td>\n",
       "      <td>3.574261e+08</td>\n",
       "      <td>2.533830e+08</td>\n",
       "    </tr>\n",
       "    <tr>\n",
       "      <th>Family</th>\n",
       "      <td>6.552105</td>\n",
       "      <td>15.233226</td>\n",
       "      <td>3007.821053</td>\n",
       "      <td>8.684553e+07</td>\n",
       "      <td>1.208917e+08</td>\n",
       "      <td>3.176784e+08</td>\n",
       "      <td>2.308329e+08</td>\n",
       "    </tr>\n",
       "    <tr>\n",
       "      <th>Science Fiction</th>\n",
       "      <td>6.323810</td>\n",
       "      <td>18.694014</td>\n",
       "      <td>4853.719048</td>\n",
       "      <td>9.276986e+07</td>\n",
       "      <td>1.129227e+08</td>\n",
       "      <td>3.091587e+08</td>\n",
       "      <td>2.163889e+08</td>\n",
       "    </tr>\n",
       "    <tr>\n",
       "      <th>Action</th>\n",
       "      <td>6.279358</td>\n",
       "      <td>18.161101</td>\n",
       "      <td>3712.743119</td>\n",
       "      <td>8.704817e+07</td>\n",
       "      <td>9.968202e+07</td>\n",
       "      <td>2.760364e+08</td>\n",
       "      <td>1.889883e+08</td>\n",
       "    </tr>\n",
       "    <tr>\n",
       "      <th>Comedy</th>\n",
       "      <td>6.335382</td>\n",
       "      <td>12.532549</td>\n",
       "      <td>1969.839851</td>\n",
       "      <td>4.141917e+07</td>\n",
       "      <td>6.486211e+07</td>\n",
       "      <td>1.513059e+08</td>\n",
       "      <td>1.098867e+08</td>\n",
       "    </tr>\n",
       "    <tr>\n",
       "      <th>Western</th>\n",
       "      <td>6.730435</td>\n",
       "      <td>15.033522</td>\n",
       "      <td>4700.173913</td>\n",
       "      <td>5.777391e+07</td>\n",
       "      <td>6.424929e+07</td>\n",
       "      <td>1.642734e+08</td>\n",
       "      <td>1.064995e+08</td>\n",
       "    </tr>\n",
       "    <tr>\n",
       "      <th>War</th>\n",
       "      <td>6.670213</td>\n",
       "      <td>13.914851</td>\n",
       "      <td>2477.914894</td>\n",
       "      <td>4.570426e+07</td>\n",
       "      <td>6.967872e+07</td>\n",
       "      <td>1.385586e+08</td>\n",
       "      <td>9.285438e+07</td>\n",
       "    </tr>\n",
       "    <tr>\n",
       "      <th>Music</th>\n",
       "      <td>6.441509</td>\n",
       "      <td>10.538981</td>\n",
       "      <td>1138.603774</td>\n",
       "      <td>3.313396e+07</td>\n",
       "      <td>5.702261e+07</td>\n",
       "      <td>1.083761e+08</td>\n",
       "      <td>7.524213e+07</td>\n",
       "    </tr>\n",
       "  </tbody>\n",
       "</table>\n",
       "</div>"
      ],
      "text/plain": [
       "                 vote_average  popularity   vote_count  production_budget  \\\n",
       "genre_id                                                                    \n",
       "Animation            6.711111   16.240342  3424.880342       9.518376e+07   \n",
       "Adventure            6.504230   19.323686  4654.873112       1.134583e+08   \n",
       "Fantasy              6.394118   19.281417  4215.647059       1.040430e+08   \n",
       "Family               6.552105   15.233226  3007.821053       8.684553e+07   \n",
       "Science Fiction      6.323810   18.694014  4853.719048       9.276986e+07   \n",
       "Action               6.279358   18.161101  3712.743119       8.704817e+07   \n",
       "Comedy               6.335382   12.532549  1969.839851       4.141917e+07   \n",
       "Western              6.730435   15.033522  4700.173913       5.777391e+07   \n",
       "War                  6.670213   13.914851  2477.914894       4.570426e+07   \n",
       "Music                6.441509   10.538981  1138.603774       3.313396e+07   \n",
       "\n",
       "                 domestic_gross  worldwide_gross        income  \n",
       "genre_id                                                        \n",
       "Animation          1.378979e+08     3.739110e+08  2.787272e+08  \n",
       "Adventure          1.374754e+08     3.907087e+08  2.772504e+08  \n",
       "Fantasy            1.270266e+08     3.574261e+08  2.533830e+08  \n",
       "Family             1.208917e+08     3.176784e+08  2.308329e+08  \n",
       "Science Fiction    1.129227e+08     3.091587e+08  2.163889e+08  \n",
       "Action             9.968202e+07     2.760364e+08  1.889883e+08  \n",
       "Comedy             6.486211e+07     1.513059e+08  1.098867e+08  \n",
       "Western            6.424929e+07     1.642734e+08  1.064995e+08  \n",
       "War                6.967872e+07     1.385586e+08  9.285438e+07  \n",
       "Music              5.702261e+07     1.083761e+08  7.524213e+07  "
      ]
     },
     "execution_count": 25,
     "metadata": {},
     "output_type": "execute_result"
    }
   ],
   "source": [
    "genres_with_budgets.genre_id = genres_with_budgets.genre_id.map(genre_mappings)\n",
    "genre_averages = genres_with_budgets.groupby('genre_id').mean().sort_values('income', ascending=False)\n",
    "genre_averages.head(10)"
   ]
  },
  {
   "cell_type": "markdown",
   "metadata": {},
   "source": [
    "This is a quick breakdown of our average key values grouped by genre"
   ]
  },
  {
   "cell_type": "code",
   "execution_count": 26,
   "metadata": {},
   "outputs": [
    {
     "name": "stderr",
     "output_type": "stream",
     "text": [
      "<ipython-input-26-f77145c739b7>:16: UserWarning: FixedFormatter should only be used together with FixedLocator\n",
      "  ax.set_xticklabels(np.arange(0, 301, 50));\n"
     ]
    },
    {
     "data": {
      "image/png": "[encoded data removed]",
      "text/plain": [
       "<Figure size 1008x648 with 1 Axes>"
      ]
     },
     "metadata": {
      "needs_background": "light"
     },
     "output_type": "display_data"
    }
   ],
   "source": [
    "fig, ax = plt.subplots(figsize = (14, 9))\n",
    "\n",
    "sns.barplot(data=genre_averages,\n",
    "            x='income' ,\n",
    "            y=genre_averages.index,\n",
    "            ax=ax,\n",
    "            palette='mako_r')\n",
    "\n",
    "ax.set_xlabel(\"Income in Millions\")\n",
    "ax.set_ylabel(\"Genre\")\n",
    "ax.set_title('Average Income Per Genre')\n",
    "plt.axvline(x=genre_averages.income.mean(),\n",
    "            ymin=0.02,\n",
    "            ymax=0.98,\n",
    "            color='red')\n",
    "ax.set_xticklabels(np.arange(0, 301, 50));"
   ]
  },
  {
   "cell_type": "markdown",
   "metadata": {},
   "source": [
    "This is a heatmap that breaks down each genre to show profit at each rating, in billions. This is visualizing how some genres are only really profitable if reception is majorly positive, some genres are profitable consistently over a larger variety of ratings, and some genres simply are not profitable regardless of ratings."
   ]
  },
  {
   "cell_type": "code",
   "execution_count": 27,
   "metadata": {},
   "outputs": [],
   "source": [
    "# Converts income to be read in billions and rounds to 1 decimal place\n",
    "genres_with_budgets['incomebillions'] = round(genres_with_budgets['income']/1000000000, 1)\n",
    "\n",
    "# As a precaution for any variance, rounds all vote rating to 1 decimal place\n",
    "genres_with_budgets['int_vote_avg'] = round(genres_with_budgets['vote_average'], 1)\n",
    "\n",
    "# Sets a filter on the vote average to range between 5.7 and 8.3, due to all values beneath 5.7 yielding similar results to values less than 6, and no data existing for ratings higher than 8.3\n",
    "genres_with_budgets = genres_with_budgets[(genres_with_budgets['int_vote_avg']>=5.7) & (genres_with_budgets['int_vote_avg']<=8.3)]\n",
    "\n",
    "# Generates a new table with only the above values for use in the heatmap below\n",
    "heatmap_df = pd.pivot_table(genres_with_budgets, index='genre_id', columns='int_vote_avg', values='incomebillions')\n",
    "heatmap_df = heatmap_df.fillna(0)"
   ]
  },
  {
   "cell_type": "code",
   "execution_count": 28,
   "metadata": {},
   "outputs": [
    {
     "data": {
      "image/png": "[encoded data removed]",
      "text/plain": [
       "<Figure size 2520x3960 with 2 Axes>"
      ]
     },
     "metadata": {
      "needs_background": "light"
     },
     "output_type": "display_data"
    }
   ],
   "source": [
    "# Creates size and subplot for the heatmap figure\n",
    "fig = plt.figure(figsize=(35,55))\n",
    "ax = fig.add_subplot(1,1,1)\n",
    "\n",
    "# Automatically adds text to the color bar values on the right\n",
    "comma_fmt = FuncFormatter(lambda x, p: format(\"$\" + str(round(float(x), 1)) + \" B\"))\n",
    "\n",
    "# Improves readability on smaller computers\n",
    "sns.set_context(\"talk\")\n",
    "\n",
    "# Generates a heatmap with proper theme, linewidth, annotation, and cbar formatting. Sets the heatmap to a variable for future reference\n",
    "ax = sns.heatmap(heatmap_df, linewidth=0.2, annot=True, cmap='mako_r',\n",
    "                 fmt=',.1f', square=True, annot_kws={'size': 18},\n",
    "                 cbar_kws={'format': comma_fmt, 'orientation':'vertical', 'shrink':.3518})\n",
    "\n",
    "# Adds a 'B' to the end of each value in each square of the heatmap to indicate the number measures in billions\n",
    "for t in ax.texts:\n",
    "    t.set_text(t.get_text() + \"B\")\n",
    "\n",
    "# Sets labels for x-axis, y-axis, and the title of the chart\n",
    "plt.xlabel(\"Rating\", fontsize=27, labelpad=10)\n",
    "plt.ylabel(\"Genre\", fontsize=27, labelpad=10)\n",
    "plt.yticks(rotation=0, fontsize=19)\n",
    "plt.xticks(size=19)\n",
    "\n",
    "# Flips the y-axis to align values accurately\n",
    "ax.invert_yaxis()\n",
    "\n",
    "# Creates a colorbar, labels it, and formats it\n",
    "cbar = ax.collections[0].colorbar\n",
    "cbar.set_label(\"Global Income (Billions)\", rotation=270, fontsize=19, color='black', labelpad=20)\n",
    "cbar.config_axis()\n",
    "\n",
    "plt.show()"
   ]
  },
  {
   "cell_type": "markdown",
   "metadata": {},
   "source": [
    "# Conducting Z-tests on top performing genres"
   ]
  },
  {
   "cell_type": "markdown",
   "metadata": {},
   "source": [
    "State the Hypothesis\n",
    "\n",
    "Taking 6 different samples of 50 movies from the top genres Adventure, Animation, Fantasy, Family, Science Fiction, and Action to compare the movie sample income to the general population movie income.\n",
    "\n",
    "Alternative Hypothesis: The sample genre mean income is significantly bigger than the population mean.\n",
    "\n",
    "Null Hypothesis: There is no significant difference between the sample genre mean income and population mean income. \n",
    "\n",
    "In this case income = (domestic gross + world wide gross) - production budget"
   ]
  },
  {
   "cell_type": "code",
   "execution_count": 29,
   "metadata": {},
   "outputs": [],
   "source": [
    "adventure = tmdb_with_budgets[tmdb_with_budgets['Adventure']==True]\n",
    "animation = tmdb_with_budgets[tmdb_with_budgets['Animation']==True]\n",
    "fantasy = tmdb_with_budgets[tmdb_with_budgets['Fantasy']==True]\n",
    "family = tmdb_with_budgets[tmdb_with_budgets['Family']==True]\n",
    "scifi = tmdb_with_budgets[tmdb_with_budgets['Science Fiction']==True]\n",
    "action = tmdb_with_budgets[tmdb_with_budgets['Action']==True]"
   ]
  },
  {
   "cell_type": "markdown",
   "metadata": {},
   "source": [
    "Adventure movies"
   ]
  },
  {
   "cell_type": "code",
   "execution_count": 30,
   "metadata": {},
   "outputs": [
    {
     "data": {
      "text/plain": [
       "3.637313907045779"
      ]
     },
     "execution_count": 30,
     "metadata": {},
     "output_type": "execute_result"
    }
   ],
   "source": [
    "# take a random sample of the adventure movies income to compare to population income\n",
    "sample = adventure['income'].sample(n=50)\n",
    "# find the genre population mean \n",
    "mu = tmdb_with_budgets['income'].mean()\n",
    "mu\n",
    "# find the sample popularity mean\n",
    "x_bar = sample.mean()\n",
    "# sample std (sigma)\n",
    "sigma = np.std(sample)\n",
    "# sample size \n",
    "n = len(sample)\n",
    "# calculate the z\n",
    "z = (x_bar - mu)/(sigma/sqrt(n))\n",
    "z"
   ]
  },
  {
   "cell_type": "code",
   "execution_count": 31,
   "metadata": {},
   "outputs": [
    {
     "name": "stdout",
     "output_type": "stream",
     "text": [
      "\n",
      "The sample contains 50 observations, having a mean of 312981718.78\n",
      "billion dollars and a standard deviation (sigma) of 409399420.134 billion dollars.\n",
      "\n"
     ]
    }
   ],
   "source": [
    "# Print the findings\n",
    "print(f\"\"\"\n",
    "The sample contains {n} observations, having a mean of {x_bar}\n",
    "billion dollars and a standard deviation (sigma) of {round(sigma,3)} billion dollars.\n",
    "\"\"\")"
   ]
  },
  {
   "cell_type": "code",
   "execution_count": 32,
   "metadata": {},
   "outputs": [
    {
     "data": {
      "text/plain": [
       "0.9998622519495188"
      ]
     },
     "execution_count": 32,
     "metadata": {},
     "output_type": "execute_result"
    }
   ],
   "source": [
    "stats.norm.cdf(z)"
   ]
  },
  {
   "cell_type": "code",
   "execution_count": 33,
   "metadata": {},
   "outputs": [
    {
     "data": {
      "text/plain": [
       "0.0001377480504811679"
      ]
     },
     "execution_count": 33,
     "metadata": {},
     "output_type": "execute_result"
    }
   ],
   "source": [
    "# Interpret p-value\n",
    "pval = 1 - stats.norm.cdf(z)\n",
    "pval "
   ]
  },
  {
   "cell_type": "markdown",
   "metadata": {},
   "source": [
    "Our p-value (8.501e-05) is smaller than the alpha of 0.05. There is enough evidence to reject the null hypothesis given this sample with an alpha of 0.05. Given this evidence, there is a significant difference between the adventure income mean and the population income mean. The results show a significant increase in income as the result of the genre. "
   ]
  },
  {
   "cell_type": "markdown",
   "metadata": {},
   "source": [
    "Animation"
   ]
  },
  {
   "cell_type": "code",
   "execution_count": 34,
   "metadata": {},
   "outputs": [
    {
     "data": {
      "text/plain": [
       "4.5851510021616795"
      ]
     },
     "execution_count": 34,
     "metadata": {},
     "output_type": "execute_result"
    }
   ],
   "source": [
    "# take a random sample of the animation movies income to compare to population income\n",
    "sample = animation['income'].sample(n=50)\n",
    "# find the genre population mean \n",
    "mu = tmdb_with_budgets['income'].mean()\n",
    "mu\n",
    "# find the sample popularity mean\n",
    "x_bar = sample.mean()\n",
    "# sample std (sigma)\n",
    "sigma = np.std(sample)\n",
    "# sample size \n",
    "n = len(sample)\n",
    "# calculate the z\n",
    "z = (x_bar - mu)/(sigma/sqrt(n))\n",
    "z"
   ]
  },
  {
   "cell_type": "code",
   "execution_count": 35,
   "metadata": {},
   "outputs": [
    {
     "name": "stdout",
     "output_type": "stream",
     "text": [
      "\n",
      "The sample contains 50 observations, having a mean of 276188142.06\n",
      "billion dollars and a standard deviation (sigma) of 268027013.24 billion dollars.\n",
      "\n"
     ]
    }
   ],
   "source": [
    "# Print the findings\n",
    "print(f\"\"\"\n",
    "The sample contains {n} observations, having a mean of {x_bar}\n",
    "billion dollars and a standard deviation (sigma) of {round(sigma,3)} billion dollars.\n",
    "\"\"\")"
   ]
  },
  {
   "cell_type": "code",
   "execution_count": 36,
   "metadata": {},
   "outputs": [
    {
     "data": {
      "text/plain": [
       "0.9999977317077483"
      ]
     },
     "execution_count": 36,
     "metadata": {},
     "output_type": "execute_result"
    }
   ],
   "source": [
    "# calculate the p-value\n",
    "stats.norm.cdf(z)"
   ]
  },
  {
   "cell_type": "code",
   "execution_count": 37,
   "metadata": {},
   "outputs": [
    {
     "data": {
      "text/plain": [
       "2.2682922516947812e-06"
      ]
     },
     "execution_count": 37,
     "metadata": {},
     "output_type": "execute_result"
    }
   ],
   "source": [
    "# Interpret p-value\n",
    "pval = 1 - stats.norm.cdf(z)\n",
    "pval "
   ]
  },
  {
   "cell_type": "markdown",
   "metadata": {},
   "source": [
    "Our p-value (4.4979e-06) is smaller than the alpha of 0.05. There is enough evidence to reject the null hypothesis given this sample with an alpha of 0.05. Given this evidence, there is a significant difference between the animation income mean and the population income mean. The results show a significant increase in income as the result of the genre."
   ]
  },
  {
   "cell_type": "markdown",
   "metadata": {},
   "source": [
    "Fantasy"
   ]
  },
  {
   "cell_type": "code",
   "execution_count": 38,
   "metadata": {},
   "outputs": [
    {
     "data": {
      "text/plain": [
       "2.534842313298119"
      ]
     },
     "execution_count": 38,
     "metadata": {},
     "output_type": "execute_result"
    }
   ],
   "source": [
    "# take a random sample of the fantasy movies income to compare to population income\n",
    "sample = fantasy['income'].sample(n=50)\n",
    "# find the genre population mean \n",
    "mu = tmdb_with_budgets['income'].mean()\n",
    "mu\n",
    "# find the sample popularity mean\n",
    "x_bar = sample.mean()\n",
    "# sample std (sigma)\n",
    "sigma = np.std(sample)\n",
    "# sample size \n",
    "n = len(sample)\n",
    "# calculate the z\n",
    "z = (x_bar - mu)/(sigma/sqrt(n))\n",
    "z"
   ]
  },
  {
   "cell_type": "code",
   "execution_count": 39,
   "metadata": {},
   "outputs": [
    {
     "name": "stdout",
     "output_type": "stream",
     "text": [
      "\n",
      "The sample contains 50 observations, having a mean of 186748279.6\n",
      "billion dollars and a standard deviation (sigma) of 235323906.617 billion dollars.\n",
      "\n"
     ]
    }
   ],
   "source": [
    "# Print the findings\n",
    "print(f\"\"\"\n",
    "The sample contains {n} observations, having a mean of {x_bar}\n",
    "billion dollars and a standard deviation (sigma) of {round(sigma,3)} billion dollars.\n",
    "\"\"\")"
   ]
  },
  {
   "cell_type": "code",
   "execution_count": 40,
   "metadata": {},
   "outputs": [
    {
     "data": {
      "text/plain": [
       "0.994375102331839"
      ]
     },
     "execution_count": 40,
     "metadata": {},
     "output_type": "execute_result"
    }
   ],
   "source": [
    "# calculate the pvalue\n",
    "stats.norm.cdf(z)"
   ]
  },
  {
   "cell_type": "code",
   "execution_count": 41,
   "metadata": {},
   "outputs": [
    {
     "data": {
      "text/plain": [
       "0.005624897668160989"
      ]
     },
     "execution_count": 41,
     "metadata": {},
     "output_type": "execute_result"
    }
   ],
   "source": [
    "# Interpret p-value\n",
    "pval = 1 - stats.norm.cdf(z)\n",
    "pval "
   ]
  },
  {
   "cell_type": "markdown",
   "metadata": {},
   "source": [
    "Our p-value (0.001138) is smaller than the alpha of 0.05. There is enough evidence to reject the null hypothesis given this sample with an alpha of 0.05. Given this evidence, there is a significant difference between the fantasy income mean and the population income mean. The results show a significant increase in income as the result of the genre."
   ]
  },
  {
   "cell_type": "markdown",
   "metadata": {},
   "source": [
    "Family"
   ]
  },
  {
   "cell_type": "code",
   "execution_count": 42,
   "metadata": {},
   "outputs": [
    {
     "data": {
      "text/plain": [
       "3.2577769074101037"
      ]
     },
     "execution_count": 42,
     "metadata": {},
     "output_type": "execute_result"
    }
   ],
   "source": [
    "# take a random sample of the family movies income to compare to population income\n",
    "sample = family['income'].sample(n=50)\n",
    "# find the genre population mean \n",
    "mu = tmdb_with_budgets['income'].mean()\n",
    "mu\n",
    "# find the sample popularity mean\n",
    "x_bar = sample.mean()\n",
    "# sample std (sigma)\n",
    "sigma = np.std(sample)\n",
    "# sample size \n",
    "n = len(sample)\n",
    "# calculate the z\n",
    "z = (x_bar - mu)/(sigma/sqrt(n))\n",
    "z"
   ]
  },
  {
   "cell_type": "code",
   "execution_count": 43,
   "metadata": {},
   "outputs": [
    {
     "name": "stdout",
     "output_type": "stream",
     "text": [
      "\n",
      "The sample contains 50 observations, having a mean of 238335874.1\n",
      "billion dollars and a standard deviation (sigma) of 295074955.132 billion dollars.\n",
      "\n"
     ]
    }
   ],
   "source": [
    "# Print the findings\n",
    "print(f\"\"\"\n",
    "The sample contains {n} observations, having a mean of {x_bar}\n",
    "billion dollars and a standard deviation (sigma) of {round(sigma,3)} billion dollars.\n",
    "\"\"\")"
   ]
  },
  {
   "cell_type": "code",
   "execution_count": 44,
   "metadata": {},
   "outputs": [
    {
     "data": {
      "text/plain": [
       "0.9994385567741242"
      ]
     },
     "execution_count": 44,
     "metadata": {},
     "output_type": "execute_result"
    }
   ],
   "source": [
    "# calculate the p-value\n",
    "stats.norm.cdf(z)"
   ]
  },
  {
   "cell_type": "code",
   "execution_count": 45,
   "metadata": {},
   "outputs": [
    {
     "data": {
      "text/plain": [
       "0.0005614432258758129"
      ]
     },
     "execution_count": 45,
     "metadata": {},
     "output_type": "execute_result"
    }
   ],
   "source": [
    "# Interpret p-value\n",
    "pval = 1 - stats.norm.cdf(z)\n",
    "pval "
   ]
  },
  {
   "cell_type": "markdown",
   "metadata": {},
   "source": [
    "Our p-value (0.005901) is smaller than the alpha of 0.05. There is enough evidence to reject the null hypothesis given this sample with an alpha of 0.05. Given this evidence, there is a significant difference between the family income mean and the population income mean. The results show a significant increase in income as the result of the genre."
   ]
  },
  {
   "cell_type": "markdown",
   "metadata": {},
   "source": [
    "Science Fiction"
   ]
  },
  {
   "cell_type": "code",
   "execution_count": 46,
   "metadata": {},
   "outputs": [
    {
     "data": {
      "text/plain": [
       "2.3180747988618786"
      ]
     },
     "execution_count": 46,
     "metadata": {},
     "output_type": "execute_result"
    }
   ],
   "source": [
    "# take a random sample of the Science Fiction movies income to compare to population income\n",
    "sample = scifi['income'].sample(n=50)\n",
    "# find the genre population mean \n",
    "mu = tmdb_with_budgets['income'].mean()\n",
    "mu\n",
    "# find the sample popularity mean\n",
    "x_bar = sample.mean()\n",
    "# sample std (sigma)\n",
    "sigma = np.std(sample)\n",
    "# sample size \n",
    "n = len(sample)\n",
    "# calculate the z\n",
    "z = (x_bar - mu)/(sigma/sqrt(n))\n",
    "z"
   ]
  },
  {
   "cell_type": "code",
   "execution_count": 47,
   "metadata": {},
   "outputs": [
    {
     "name": "stdout",
     "output_type": "stream",
     "text": [
      "\n",
      "The sample contains 50 observations, having a mean of 189765758.96\n",
      "billion dollars and a standard deviation (sigma) of 266534020.948 billion dollars.\n",
      "\n"
     ]
    }
   ],
   "source": [
    "# Print the findings\n",
    "print(f\"\"\"\n",
    "The sample contains {n} observations, having a mean of {x_bar}\n",
    "billion dollars and a standard deviation (sigma) of {round(sigma,3)} billion dollars.\n",
    "\"\"\")"
   ]
  },
  {
   "cell_type": "code",
   "execution_count": 48,
   "metadata": {},
   "outputs": [
    {
     "data": {
      "text/plain": [
       "0.9897773718669631"
      ]
     },
     "execution_count": 48,
     "metadata": {},
     "output_type": "execute_result"
    }
   ],
   "source": [
    "# calculate the p-value\n",
    "stats.norm.cdf(z)"
   ]
  },
  {
   "cell_type": "code",
   "execution_count": 49,
   "metadata": {},
   "outputs": [
    {
     "data": {
      "text/plain": [
       "0.01022262813303687"
      ]
     },
     "execution_count": 49,
     "metadata": {},
     "output_type": "execute_result"
    }
   ],
   "source": [
    "# Interpret p-value\n",
    "pval = 1 - stats.norm.cdf(z)\n",
    "pval "
   ]
  },
  {
   "cell_type": "markdown",
   "metadata": {},
   "source": [
    "Our p-value (0.00915) is smaller than the alpha of 0.05. There is enough evidence to reject the null hypothesis given this sample with an alpha of 0.05. Given this evidence, there is a significant difference between the science fiction income mean and the population income mean. The results show a significant increase in income as the result of the genre."
   ]
  },
  {
   "cell_type": "markdown",
   "metadata": {},
   "source": [
    "Action"
   ]
  },
  {
   "cell_type": "code",
   "execution_count": 50,
   "metadata": {},
   "outputs": [
    {
     "data": {
      "text/plain": [
       "1.7342863162584385"
      ]
     },
     "execution_count": 50,
     "metadata": {},
     "output_type": "execute_result"
    }
   ],
   "source": [
    "# take a random sample of the Science Fiction movies income to compare to population income\n",
    "sample = action['income'].sample(n=50)\n",
    "# find the genre population mean \n",
    "mu = tmdb_with_budgets['income'].mean()\n",
    "mu\n",
    "# find the sample popularity mean\n",
    "x_bar = sample.mean()\n",
    "# sample std (sigma)\n",
    "sigma = np.std(sample)\n",
    "# sample size \n",
    "n = len(sample)\n",
    "# calculate the z\n",
    "z = (x_bar - mu)/(sigma/sqrt(n))\n",
    "z"
   ]
  },
  {
   "cell_type": "code",
   "execution_count": 51,
   "metadata": {},
   "outputs": [
    {
     "name": "stdout",
     "output_type": "stream",
     "text": [
      "\n",
      "The sample contains 50 observations, having a mean of 167967086.68\n",
      "billion dollars and a standard deviation (sigma) of 267375636.163 billion dollars.\n",
      "\n"
     ]
    }
   ],
   "source": [
    "# Print the findings\n",
    "print(f\"\"\"\n",
    "The sample contains {n} observations, having a mean of {x_bar}\n",
    "billion dollars and a standard deviation (sigma) of {round(sigma,3)} billion dollars.\n",
    "\"\"\")"
   ]
  },
  {
   "cell_type": "code",
   "execution_count": 52,
   "metadata": {},
   "outputs": [
    {
     "data": {
      "text/plain": [
       "0.9585663529059643"
      ]
     },
     "execution_count": 52,
     "metadata": {},
     "output_type": "execute_result"
    }
   ],
   "source": [
    "# calculate the p-value\n",
    "stats.norm.cdf(z)"
   ]
  },
  {
   "cell_type": "code",
   "execution_count": 53,
   "metadata": {},
   "outputs": [
    {
     "data": {
      "text/plain": [
       "0.04143364709403574"
      ]
     },
     "execution_count": 53,
     "metadata": {},
     "output_type": "execute_result"
    }
   ],
   "source": [
    "# Interpret p-value\n",
    "pval = 1 - stats.norm.cdf(z)\n",
    "pval "
   ]
  },
  {
   "cell_type": "markdown",
   "metadata": {},
   "source": [
    "Our p-value (0.00189) is smaller than the alpha of 0.05. There is enough evidence to reject the null hypothesis given this sample with an alpha of 0.05. Given this evidence, there is a significant difference between the action income mean and the population income mean. The results show a significant increase in income as the result of the genre."
   ]
  },
  {
   "cell_type": "markdown",
   "metadata": {},
   "source": [
    "# SQL Data Cleaning, Analysis ,and Visualization"
   ]
  },
  {
   "cell_type": "code",
   "execution_count": 54,
   "metadata": {},
   "outputs": [],
   "source": [
    "import pandas as pd \n",
    "import numpy as np\n",
    "import sqlite3\n",
    "import seaborn as sns\n",
    "import matplotlib.pyplot as plt\n",
    "%matplotlib inline"
   ]
  },
  {
   "cell_type": "markdown",
   "metadata": {},
   "source": [
    "# Loading Data into Tables"
   ]
  },
  {
   "cell_type": "markdown",
   "metadata": {},
   "source": [
    "Load Data set and read first one"
   ]
  },
  {
   "cell_type": "code",
   "execution_count": 55,
   "metadata": {},
   "outputs": [
    {
     "data": {
      "text/html": [
       "<div>\n",
       "<style scoped>\n",
       "    .dataframe tbody tr th:only-of-type {\n",
       "        vertical-align: middle;\n",
       "    }\n",
       "\n",
       "    .dataframe tbody tr th {\n",
       "        vertical-align: top;\n",
       "    }\n",
       "\n",
       "    .dataframe thead th {\n",
       "        text-align: right;\n",
       "    }\n",
       "</style>\n",
       "<table border=\"1\" class=\"dataframe\">\n",
       "  <thead>\n",
       "    <tr style=\"text-align: right;\">\n",
       "      <th></th>\n",
       "      <th>movie_id</th>\n",
       "      <th>primary_title</th>\n",
       "      <th>original_title</th>\n",
       "      <th>start_year</th>\n",
       "      <th>runtime_minutes</th>\n",
       "      <th>genres</th>\n",
       "    </tr>\n",
       "  </thead>\n",
       "  <tbody>\n",
       "    <tr>\n",
       "      <th>0</th>\n",
       "      <td>tt0063540</td>\n",
       "      <td>Sunghursh</td>\n",
       "      <td>Sunghursh</td>\n",
       "      <td>2013</td>\n",
       "      <td>175.0</td>\n",
       "      <td>Action,Crime,Drama</td>\n",
       "    </tr>\n",
       "    <tr>\n",
       "      <th>1</th>\n",
       "      <td>tt0066787</td>\n",
       "      <td>One Day Before the Rainy Season</td>\n",
       "      <td>Ashad Ka Ek Din</td>\n",
       "      <td>2019</td>\n",
       "      <td>114.0</td>\n",
       "      <td>Biography,Drama</td>\n",
       "    </tr>\n",
       "    <tr>\n",
       "      <th>2</th>\n",
       "      <td>tt0069049</td>\n",
       "      <td>The Other Side of the Wind</td>\n",
       "      <td>The Other Side of the Wind</td>\n",
       "      <td>2018</td>\n",
       "      <td>122.0</td>\n",
       "      <td>Drama</td>\n",
       "    </tr>\n",
       "    <tr>\n",
       "      <th>3</th>\n",
       "      <td>tt0069204</td>\n",
       "      <td>Sabse Bada Sukh</td>\n",
       "      <td>Sabse Bada Sukh</td>\n",
       "      <td>2018</td>\n",
       "      <td>NaN</td>\n",
       "      <td>Comedy,Drama</td>\n",
       "    </tr>\n",
       "    <tr>\n",
       "      <th>4</th>\n",
       "      <td>tt0100275</td>\n",
       "      <td>The Wandering Soap Opera</td>\n",
       "      <td>La Telenovela Errante</td>\n",
       "      <td>2017</td>\n",
       "      <td>80.0</td>\n",
       "      <td>Comedy,Drama,Fantasy</td>\n",
       "    </tr>\n",
       "    <tr>\n",
       "      <th>...</th>\n",
       "      <td>...</td>\n",
       "      <td>...</td>\n",
       "      <td>...</td>\n",
       "      <td>...</td>\n",
       "      <td>...</td>\n",
       "      <td>...</td>\n",
       "    </tr>\n",
       "    <tr>\n",
       "      <th>146139</th>\n",
       "      <td>tt9916538</td>\n",
       "      <td>Kuambil Lagi Hatiku</td>\n",
       "      <td>Kuambil Lagi Hatiku</td>\n",
       "      <td>2019</td>\n",
       "      <td>123.0</td>\n",
       "      <td>Drama</td>\n",
       "    </tr>\n",
       "    <tr>\n",
       "      <th>146140</th>\n",
       "      <td>tt9916622</td>\n",
       "      <td>Rodolpho Teóphilo - O Legado de um Pioneiro</td>\n",
       "      <td>Rodolpho Teóphilo - O Legado de um Pioneiro</td>\n",
       "      <td>2015</td>\n",
       "      <td>NaN</td>\n",
       "      <td>Documentary</td>\n",
       "    </tr>\n",
       "    <tr>\n",
       "      <th>146141</th>\n",
       "      <td>tt9916706</td>\n",
       "      <td>Dankyavar Danka</td>\n",
       "      <td>Dankyavar Danka</td>\n",
       "      <td>2013</td>\n",
       "      <td>NaN</td>\n",
       "      <td>Comedy</td>\n",
       "    </tr>\n",
       "    <tr>\n",
       "      <th>146142</th>\n",
       "      <td>tt9916730</td>\n",
       "      <td>6 Gunn</td>\n",
       "      <td>6 Gunn</td>\n",
       "      <td>2017</td>\n",
       "      <td>116.0</td>\n",
       "      <td>None</td>\n",
       "    </tr>\n",
       "    <tr>\n",
       "      <th>146143</th>\n",
       "      <td>tt9916754</td>\n",
       "      <td>Chico Albuquerque - Revelações</td>\n",
       "      <td>Chico Albuquerque - Revelações</td>\n",
       "      <td>2013</td>\n",
       "      <td>NaN</td>\n",
       "      <td>Documentary</td>\n",
       "    </tr>\n",
       "  </tbody>\n",
       "</table>\n",
       "<p>146144 rows × 6 columns</p>\n",
       "</div>"
      ],
      "text/plain": [
       "         movie_id                                primary_title  \\\n",
       "0       tt0063540                                    Sunghursh   \n",
       "1       tt0066787              One Day Before the Rainy Season   \n",
       "2       tt0069049                   The Other Side of the Wind   \n",
       "3       tt0069204                              Sabse Bada Sukh   \n",
       "4       tt0100275                     The Wandering Soap Opera   \n",
       "...           ...                                          ...   \n",
       "146139  tt9916538                          Kuambil Lagi Hatiku   \n",
       "146140  tt9916622  Rodolpho Teóphilo - O Legado de um Pioneiro   \n",
       "146141  tt9916706                              Dankyavar Danka   \n",
       "146142  tt9916730                                       6 Gunn   \n",
       "146143  tt9916754               Chico Albuquerque - Revelações   \n",
       "\n",
       "                                     original_title  start_year  \\\n",
       "0                                         Sunghursh        2013   \n",
       "1                                   Ashad Ka Ek Din        2019   \n",
       "2                        The Other Side of the Wind        2018   \n",
       "3                                   Sabse Bada Sukh        2018   \n",
       "4                             La Telenovela Errante        2017   \n",
       "...                                             ...         ...   \n",
       "146139                          Kuambil Lagi Hatiku        2019   \n",
       "146140  Rodolpho Teóphilo - O Legado de um Pioneiro        2015   \n",
       "146141                              Dankyavar Danka        2013   \n",
       "146142                                       6 Gunn        2017   \n",
       "146143               Chico Albuquerque - Revelações        2013   \n",
       "\n",
       "        runtime_minutes                genres  \n",
       "0                 175.0    Action,Crime,Drama  \n",
       "1                 114.0       Biography,Drama  \n",
       "2                 122.0                 Drama  \n",
       "3                   NaN          Comedy,Drama  \n",
       "4                  80.0  Comedy,Drama,Fantasy  \n",
       "...                 ...                   ...  \n",
       "146139            123.0                 Drama  \n",
       "146140              NaN           Documentary  \n",
       "146141              NaN                Comedy  \n",
       "146142            116.0                  None  \n",
       "146143              NaN           Documentary  \n",
       "\n",
       "[146144 rows x 6 columns]"
      ]
     },
     "execution_count": 55,
     "metadata": {},
     "output_type": "execute_result"
    }
   ],
   "source": [
    "conn = sqlite3.connect('Data/im.db')\n",
    "df1=pd.read_sql('Select * from movie_basics', conn)\n",
    "df1"
   ]
  },
  {
   "cell_type": "markdown",
   "metadata": {},
   "source": [
    "Load second data set and only take the number of votes greater than 25 because this can cause the rating to be skewed if only a few people had voted for it"
   ]
  },
  {
   "cell_type": "code",
   "execution_count": 56,
   "metadata": {},
   "outputs": [
    {
     "data": {
      "text/html": [
       "<div>\n",
       "<style scoped>\n",
       "    .dataframe tbody tr th:only-of-type {\n",
       "        vertical-align: middle;\n",
       "    }\n",
       "\n",
       "    .dataframe tbody tr th {\n",
       "        vertical-align: top;\n",
       "    }\n",
       "\n",
       "    .dataframe thead th {\n",
       "        text-align: right;\n",
       "    }\n",
       "</style>\n",
       "<table border=\"1\" class=\"dataframe\">\n",
       "  <thead>\n",
       "    <tr style=\"text-align: right;\">\n",
       "      <th></th>\n",
       "      <th>movie_id</th>\n",
       "      <th>averagerating</th>\n",
       "      <th>numvotes</th>\n",
       "    </tr>\n",
       "  </thead>\n",
       "  <tbody>\n",
       "    <tr>\n",
       "      <th>0</th>\n",
       "      <td>tt10356526</td>\n",
       "      <td>8.3</td>\n",
       "      <td>31</td>\n",
       "    </tr>\n",
       "    <tr>\n",
       "      <th>1</th>\n",
       "      <td>tt10384606</td>\n",
       "      <td>8.9</td>\n",
       "      <td>559</td>\n",
       "    </tr>\n",
       "    <tr>\n",
       "      <th>2</th>\n",
       "      <td>tt1043726</td>\n",
       "      <td>4.2</td>\n",
       "      <td>50352</td>\n",
       "    </tr>\n",
       "    <tr>\n",
       "      <th>3</th>\n",
       "      <td>tt1069246</td>\n",
       "      <td>6.2</td>\n",
       "      <td>326</td>\n",
       "    </tr>\n",
       "    <tr>\n",
       "      <th>4</th>\n",
       "      <td>tt1094666</td>\n",
       "      <td>7.0</td>\n",
       "      <td>1613</td>\n",
       "    </tr>\n",
       "    <tr>\n",
       "      <th>...</th>\n",
       "      <td>...</td>\n",
       "      <td>...</td>\n",
       "      <td>...</td>\n",
       "    </tr>\n",
       "    <tr>\n",
       "      <th>45752</th>\n",
       "      <td>tt9633108</td>\n",
       "      <td>3.9</td>\n",
       "      <td>44</td>\n",
       "    </tr>\n",
       "    <tr>\n",
       "      <th>45753</th>\n",
       "      <td>tt9668598</td>\n",
       "      <td>5.5</td>\n",
       "      <td>317</td>\n",
       "    </tr>\n",
       "    <tr>\n",
       "      <th>45754</th>\n",
       "      <td>tt9690762</td>\n",
       "      <td>5.6</td>\n",
       "      <td>37</td>\n",
       "    </tr>\n",
       "    <tr>\n",
       "      <th>45755</th>\n",
       "      <td>tt9768966</td>\n",
       "      <td>8.6</td>\n",
       "      <td>27</td>\n",
       "    </tr>\n",
       "    <tr>\n",
       "      <th>45756</th>\n",
       "      <td>tt9894098</td>\n",
       "      <td>6.3</td>\n",
       "      <td>128</td>\n",
       "    </tr>\n",
       "  </tbody>\n",
       "</table>\n",
       "<p>45757 rows × 3 columns</p>\n",
       "</div>"
      ],
      "text/plain": [
       "         movie_id  averagerating  numvotes\n",
       "0      tt10356526            8.3        31\n",
       "1      tt10384606            8.9       559\n",
       "2       tt1043726            4.2     50352\n",
       "3       tt1069246            6.2       326\n",
       "4       tt1094666            7.0      1613\n",
       "...           ...            ...       ...\n",
       "45752   tt9633108            3.9        44\n",
       "45753   tt9668598            5.5       317\n",
       "45754   tt9690762            5.6        37\n",
       "45755   tt9768966            8.6        27\n",
       "45756   tt9894098            6.3       128\n",
       "\n",
       "[45757 rows x 3 columns]"
      ]
     },
     "execution_count": 56,
     "metadata": {},
     "output_type": "execute_result"
    }
   ],
   "source": [
    "df2=pd.read_sql('Select * from movie_ratings Where numvotes>25', conn)\n",
    "df2"
   ]
  },
  {
   "cell_type": "markdown",
   "metadata": {},
   "source": [
    "Load third and fourth data sets "
   ]
  },
  {
   "cell_type": "code",
   "execution_count": 57,
   "metadata": {},
   "outputs": [
    {
     "data": {
      "text/html": [
       "<div>\n",
       "<style scoped>\n",
       "    .dataframe tbody tr th:only-of-type {\n",
       "        vertical-align: middle;\n",
       "    }\n",
       "\n",
       "    .dataframe tbody tr th {\n",
       "        vertical-align: top;\n",
       "    }\n",
       "\n",
       "    .dataframe thead th {\n",
       "        text-align: right;\n",
       "    }\n",
       "</style>\n",
       "<table border=\"1\" class=\"dataframe\">\n",
       "  <thead>\n",
       "    <tr style=\"text-align: right;\">\n",
       "      <th></th>\n",
       "      <th>movie_id</th>\n",
       "      <th>person_id</th>\n",
       "    </tr>\n",
       "  </thead>\n",
       "  <tbody>\n",
       "    <tr>\n",
       "      <th>0</th>\n",
       "      <td>tt0285252</td>\n",
       "      <td>nm0899854</td>\n",
       "    </tr>\n",
       "    <tr>\n",
       "      <th>1</th>\n",
       "      <td>tt0462036</td>\n",
       "      <td>nm1940585</td>\n",
       "    </tr>\n",
       "    <tr>\n",
       "      <th>2</th>\n",
       "      <td>tt0835418</td>\n",
       "      <td>nm0151540</td>\n",
       "    </tr>\n",
       "    <tr>\n",
       "      <th>3</th>\n",
       "      <td>tt0835418</td>\n",
       "      <td>nm0151540</td>\n",
       "    </tr>\n",
       "    <tr>\n",
       "      <th>4</th>\n",
       "      <td>tt0878654</td>\n",
       "      <td>nm0089502</td>\n",
       "    </tr>\n",
       "    <tr>\n",
       "      <th>...</th>\n",
       "      <td>...</td>\n",
       "      <td>...</td>\n",
       "    </tr>\n",
       "    <tr>\n",
       "      <th>291169</th>\n",
       "      <td>tt8999974</td>\n",
       "      <td>nm10122357</td>\n",
       "    </tr>\n",
       "    <tr>\n",
       "      <th>291170</th>\n",
       "      <td>tt9001390</td>\n",
       "      <td>nm6711477</td>\n",
       "    </tr>\n",
       "    <tr>\n",
       "      <th>291171</th>\n",
       "      <td>tt9001494</td>\n",
       "      <td>nm10123242</td>\n",
       "    </tr>\n",
       "    <tr>\n",
       "      <th>291172</th>\n",
       "      <td>tt9001494</td>\n",
       "      <td>nm10123248</td>\n",
       "    </tr>\n",
       "    <tr>\n",
       "      <th>291173</th>\n",
       "      <td>tt9004986</td>\n",
       "      <td>nm4993825</td>\n",
       "    </tr>\n",
       "  </tbody>\n",
       "</table>\n",
       "<p>291174 rows × 2 columns</p>\n",
       "</div>"
      ],
      "text/plain": [
       "         movie_id   person_id\n",
       "0       tt0285252   nm0899854\n",
       "1       tt0462036   nm1940585\n",
       "2       tt0835418   nm0151540\n",
       "3       tt0835418   nm0151540\n",
       "4       tt0878654   nm0089502\n",
       "...           ...         ...\n",
       "291169  tt8999974  nm10122357\n",
       "291170  tt9001390   nm6711477\n",
       "291171  tt9001494  nm10123242\n",
       "291172  tt9001494  nm10123248\n",
       "291173  tt9004986   nm4993825\n",
       "\n",
       "[291174 rows x 2 columns]"
      ]
     },
     "execution_count": 57,
     "metadata": {},
     "output_type": "execute_result"
    }
   ],
   "source": [
    "df3=pd.read_sql('Select * from directors', conn)\n",
    "df3"
   ]
  },
  {
   "cell_type": "code",
   "execution_count": 58,
   "metadata": {},
   "outputs": [
    {
     "data": {
      "text/html": [
       "<div>\n",
       "<style scoped>\n",
       "    .dataframe tbody tr th:only-of-type {\n",
       "        vertical-align: middle;\n",
       "    }\n",
       "\n",
       "    .dataframe tbody tr th {\n",
       "        vertical-align: top;\n",
       "    }\n",
       "\n",
       "    .dataframe thead th {\n",
       "        text-align: right;\n",
       "    }\n",
       "</style>\n",
       "<table border=\"1\" class=\"dataframe\">\n",
       "  <thead>\n",
       "    <tr style=\"text-align: right;\">\n",
       "      <th></th>\n",
       "      <th>person_id</th>\n",
       "      <th>primary_name</th>\n",
       "      <th>birth_year</th>\n",
       "      <th>death_year</th>\n",
       "      <th>primary_profession</th>\n",
       "    </tr>\n",
       "  </thead>\n",
       "  <tbody>\n",
       "    <tr>\n",
       "      <th>0</th>\n",
       "      <td>nm0061671</td>\n",
       "      <td>Mary Ellen Bauder</td>\n",
       "      <td>NaN</td>\n",
       "      <td>NaN</td>\n",
       "      <td>miscellaneous,production_manager,producer</td>\n",
       "    </tr>\n",
       "    <tr>\n",
       "      <th>1</th>\n",
       "      <td>nm0061865</td>\n",
       "      <td>Joseph Bauer</td>\n",
       "      <td>NaN</td>\n",
       "      <td>NaN</td>\n",
       "      <td>composer,music_department,sound_department</td>\n",
       "    </tr>\n",
       "    <tr>\n",
       "      <th>2</th>\n",
       "      <td>nm0062070</td>\n",
       "      <td>Bruce Baum</td>\n",
       "      <td>NaN</td>\n",
       "      <td>NaN</td>\n",
       "      <td>miscellaneous,actor,writer</td>\n",
       "    </tr>\n",
       "    <tr>\n",
       "      <th>3</th>\n",
       "      <td>nm0062195</td>\n",
       "      <td>Axel Baumann</td>\n",
       "      <td>NaN</td>\n",
       "      <td>NaN</td>\n",
       "      <td>camera_department,cinematographer,art_department</td>\n",
       "    </tr>\n",
       "    <tr>\n",
       "      <th>4</th>\n",
       "      <td>nm0062798</td>\n",
       "      <td>Pete Baxter</td>\n",
       "      <td>NaN</td>\n",
       "      <td>NaN</td>\n",
       "      <td>production_designer,art_department,set_decorator</td>\n",
       "    </tr>\n",
       "    <tr>\n",
       "      <th>...</th>\n",
       "      <td>...</td>\n",
       "      <td>...</td>\n",
       "      <td>...</td>\n",
       "      <td>...</td>\n",
       "      <td>...</td>\n",
       "    </tr>\n",
       "    <tr>\n",
       "      <th>606643</th>\n",
       "      <td>nm9990381</td>\n",
       "      <td>Susan Grobes</td>\n",
       "      <td>NaN</td>\n",
       "      <td>NaN</td>\n",
       "      <td>actress</td>\n",
       "    </tr>\n",
       "    <tr>\n",
       "      <th>606644</th>\n",
       "      <td>nm9990690</td>\n",
       "      <td>Joo Yeon So</td>\n",
       "      <td>NaN</td>\n",
       "      <td>NaN</td>\n",
       "      <td>actress</td>\n",
       "    </tr>\n",
       "    <tr>\n",
       "      <th>606645</th>\n",
       "      <td>nm9991320</td>\n",
       "      <td>Madeline Smith</td>\n",
       "      <td>NaN</td>\n",
       "      <td>NaN</td>\n",
       "      <td>actress</td>\n",
       "    </tr>\n",
       "    <tr>\n",
       "      <th>606646</th>\n",
       "      <td>nm9991786</td>\n",
       "      <td>Michelle Modigliani</td>\n",
       "      <td>NaN</td>\n",
       "      <td>NaN</td>\n",
       "      <td>producer</td>\n",
       "    </tr>\n",
       "    <tr>\n",
       "      <th>606647</th>\n",
       "      <td>nm9993380</td>\n",
       "      <td>Pegasus Envoyé</td>\n",
       "      <td>NaN</td>\n",
       "      <td>NaN</td>\n",
       "      <td>director,actor,writer</td>\n",
       "    </tr>\n",
       "  </tbody>\n",
       "</table>\n",
       "<p>606648 rows × 5 columns</p>\n",
       "</div>"
      ],
      "text/plain": [
       "        person_id         primary_name  birth_year  death_year  \\\n",
       "0       nm0061671    Mary Ellen Bauder         NaN         NaN   \n",
       "1       nm0061865         Joseph Bauer         NaN         NaN   \n",
       "2       nm0062070           Bruce Baum         NaN         NaN   \n",
       "3       nm0062195         Axel Baumann         NaN         NaN   \n",
       "4       nm0062798          Pete Baxter         NaN         NaN   \n",
       "...           ...                  ...         ...         ...   \n",
       "606643  nm9990381         Susan Grobes         NaN         NaN   \n",
       "606644  nm9990690          Joo Yeon So         NaN         NaN   \n",
       "606645  nm9991320       Madeline Smith         NaN         NaN   \n",
       "606646  nm9991786  Michelle Modigliani         NaN         NaN   \n",
       "606647  nm9993380       Pegasus Envoyé         NaN         NaN   \n",
       "\n",
       "                                      primary_profession  \n",
       "0              miscellaneous,production_manager,producer  \n",
       "1             composer,music_department,sound_department  \n",
       "2                             miscellaneous,actor,writer  \n",
       "3       camera_department,cinematographer,art_department  \n",
       "4       production_designer,art_department,set_decorator  \n",
       "...                                                  ...  \n",
       "606643                                           actress  \n",
       "606644                                           actress  \n",
       "606645                                           actress  \n",
       "606646                                          producer  \n",
       "606647                             director,actor,writer  \n",
       "\n",
       "[606648 rows x 5 columns]"
      ]
     },
     "execution_count": 58,
     "metadata": {},
     "output_type": "execute_result"
    }
   ],
   "source": [
    "df4=pd.read_sql('Select * from persons', conn)\n",
    "df4"
   ]
  },
  {
   "cell_type": "markdown",
   "metadata": {},
   "source": [
    "Join tables to get necessary values and query on number of votes greater than 100 so that we can get accurate ratings and Runtime <400 because there were outliers in the thousands and almost all box office hits are below this figure"
   ]
  },
  {
   "cell_type": "code",
   "execution_count": 59,
   "metadata": {},
   "outputs": [
    {
     "data": {
      "text/html": [
       "<div>\n",
       "<style scoped>\n",
       "    .dataframe tbody tr th:only-of-type {\n",
       "        vertical-align: middle;\n",
       "    }\n",
       "\n",
       "    .dataframe tbody tr th {\n",
       "        vertical-align: top;\n",
       "    }\n",
       "\n",
       "    .dataframe thead th {\n",
       "        text-align: right;\n",
       "    }\n",
       "</style>\n",
       "<table border=\"1\" class=\"dataframe\">\n",
       "  <thead>\n",
       "    <tr style=\"text-align: right;\">\n",
       "      <th></th>\n",
       "      <th>movie_id</th>\n",
       "      <th>primary_title</th>\n",
       "      <th>original_title</th>\n",
       "      <th>start_year</th>\n",
       "      <th>runtime_minutes</th>\n",
       "      <th>genres</th>\n",
       "      <th>averagerating</th>\n",
       "      <th>numvotes</th>\n",
       "    </tr>\n",
       "  </thead>\n",
       "  <tbody>\n",
       "    <tr>\n",
       "      <th>0</th>\n",
       "      <td>tt1311083</td>\n",
       "      <td>Rat Scratch Fever</td>\n",
       "      <td>Rat Scratch Fever</td>\n",
       "      <td>2011</td>\n",
       "      <td>90.0</td>\n",
       "      <td>Horror,Sci-Fi</td>\n",
       "      <td>4.9</td>\n",
       "      <td>101</td>\n",
       "    </tr>\n",
       "    <tr>\n",
       "      <th>1</th>\n",
       "      <td>tt1547089</td>\n",
       "      <td>A Yakuza's Daughter Never Cries</td>\n",
       "      <td>Doch yakudzy</td>\n",
       "      <td>2010</td>\n",
       "      <td>81.0</td>\n",
       "      <td>Comedy</td>\n",
       "      <td>5.1</td>\n",
       "      <td>101</td>\n",
       "    </tr>\n",
       "    <tr>\n",
       "      <th>2</th>\n",
       "      <td>tt1652295</td>\n",
       "      <td>Alien Inhabitant</td>\n",
       "      <td>Alien Inhabitant</td>\n",
       "      <td>2011</td>\n",
       "      <td>90.0</td>\n",
       "      <td>Crime,Drama,Fantasy</td>\n",
       "      <td>4.4</td>\n",
       "      <td>101</td>\n",
       "    </tr>\n",
       "    <tr>\n",
       "      <th>3</th>\n",
       "      <td>tt1698653</td>\n",
       "      <td>Me &amp; Mr Jones, a love story on Natalee-island</td>\n",
       "      <td>Me and Mr Jones on Natalee-Island</td>\n",
       "      <td>2011</td>\n",
       "      <td>88.0</td>\n",
       "      <td>Crime,Drama,Mystery</td>\n",
       "      <td>3.5</td>\n",
       "      <td>101</td>\n",
       "    </tr>\n",
       "    <tr>\n",
       "      <th>4</th>\n",
       "      <td>tt1711475</td>\n",
       "      <td>The Jade and the Pearl</td>\n",
       "      <td>Fei cui ming zhu</td>\n",
       "      <td>2010</td>\n",
       "      <td>104.0</td>\n",
       "      <td>Comedy,Romance</td>\n",
       "      <td>4.2</td>\n",
       "      <td>101</td>\n",
       "    </tr>\n",
       "    <tr>\n",
       "      <th>...</th>\n",
       "      <td>...</td>\n",
       "      <td>...</td>\n",
       "      <td>...</td>\n",
       "      <td>...</td>\n",
       "      <td>...</td>\n",
       "      <td>...</td>\n",
       "      <td>...</td>\n",
       "      <td>...</td>\n",
       "    </tr>\n",
       "    <tr>\n",
       "      <th>27866</th>\n",
       "      <td>tt0848228</td>\n",
       "      <td>The Avengers</td>\n",
       "      <td>The Avengers</td>\n",
       "      <td>2012</td>\n",
       "      <td>143.0</td>\n",
       "      <td>Action,Adventure,Sci-Fi</td>\n",
       "      <td>8.1</td>\n",
       "      <td>1183655</td>\n",
       "    </tr>\n",
       "    <tr>\n",
       "      <th>27867</th>\n",
       "      <td>tt1853728</td>\n",
       "      <td>Django Unchained</td>\n",
       "      <td>Django Unchained</td>\n",
       "      <td>2012</td>\n",
       "      <td>165.0</td>\n",
       "      <td>Drama,Western</td>\n",
       "      <td>8.4</td>\n",
       "      <td>1211405</td>\n",
       "    </tr>\n",
       "    <tr>\n",
       "      <th>27868</th>\n",
       "      <td>tt0816692</td>\n",
       "      <td>Interstellar</td>\n",
       "      <td>Interstellar</td>\n",
       "      <td>2014</td>\n",
       "      <td>169.0</td>\n",
       "      <td>Adventure,Drama,Sci-Fi</td>\n",
       "      <td>8.6</td>\n",
       "      <td>1299334</td>\n",
       "    </tr>\n",
       "    <tr>\n",
       "      <th>27869</th>\n",
       "      <td>tt1345836</td>\n",
       "      <td>The Dark Knight Rises</td>\n",
       "      <td>The Dark Knight Rises</td>\n",
       "      <td>2012</td>\n",
       "      <td>164.0</td>\n",
       "      <td>Action,Thriller</td>\n",
       "      <td>8.4</td>\n",
       "      <td>1387769</td>\n",
       "    </tr>\n",
       "    <tr>\n",
       "      <th>27870</th>\n",
       "      <td>tt1375666</td>\n",
       "      <td>Inception</td>\n",
       "      <td>Inception</td>\n",
       "      <td>2010</td>\n",
       "      <td>148.0</td>\n",
       "      <td>Action,Adventure,Sci-Fi</td>\n",
       "      <td>8.8</td>\n",
       "      <td>1841066</td>\n",
       "    </tr>\n",
       "  </tbody>\n",
       "</table>\n",
       "<p>27871 rows × 8 columns</p>\n",
       "</div>"
      ],
      "text/plain": [
       "        movie_id                                  primary_title  \\\n",
       "0      tt1311083                              Rat Scratch Fever   \n",
       "1      tt1547089                A Yakuza's Daughter Never Cries   \n",
       "2      tt1652295                               Alien Inhabitant   \n",
       "3      tt1698653  Me & Mr Jones, a love story on Natalee-island   \n",
       "4      tt1711475                         The Jade and the Pearl   \n",
       "...          ...                                            ...   \n",
       "27866  tt0848228                                   The Avengers   \n",
       "27867  tt1853728                               Django Unchained   \n",
       "27868  tt0816692                                   Interstellar   \n",
       "27869  tt1345836                          The Dark Knight Rises   \n",
       "27870  tt1375666                                      Inception   \n",
       "\n",
       "                          original_title  start_year  runtime_minutes  \\\n",
       "0                      Rat Scratch Fever        2011             90.0   \n",
       "1                           Doch yakudzy        2010             81.0   \n",
       "2                       Alien Inhabitant        2011             90.0   \n",
       "3      Me and Mr Jones on Natalee-Island        2011             88.0   \n",
       "4                       Fei cui ming zhu        2010            104.0   \n",
       "...                                  ...         ...              ...   \n",
       "27866                       The Avengers        2012            143.0   \n",
       "27867                   Django Unchained        2012            165.0   \n",
       "27868                       Interstellar        2014            169.0   \n",
       "27869              The Dark Knight Rises        2012            164.0   \n",
       "27870                          Inception        2010            148.0   \n",
       "\n",
       "                        genres  averagerating  numvotes  \n",
       "0                Horror,Sci-Fi            4.9       101  \n",
       "1                       Comedy            5.1       101  \n",
       "2          Crime,Drama,Fantasy            4.4       101  \n",
       "3          Crime,Drama,Mystery            3.5       101  \n",
       "4               Comedy,Romance            4.2       101  \n",
       "...                        ...            ...       ...  \n",
       "27866  Action,Adventure,Sci-Fi            8.1   1183655  \n",
       "27867            Drama,Western            8.4   1211405  \n",
       "27868   Adventure,Drama,Sci-Fi            8.6   1299334  \n",
       "27869          Action,Thriller            8.4   1387769  \n",
       "27870  Action,Adventure,Sci-Fi            8.8   1841066  \n",
       "\n",
       "[27871 rows x 8 columns]"
      ]
     },
     "execution_count": 59,
     "metadata": {},
     "output_type": "execute_result"
    }
   ],
   "source": [
    "df=pd.read_sql('Select movie_basics.movie_id,movie_basics.primary_title,movie_basics.original_title,movie_basics.start_year,movie_basics.runtime_minutes,movie_basics.genres,movie_ratings.averagerating,movie_ratings.numvotes from movie_basics join movie_ratings Using(movie_id) Where numvotes>100 AND runtime_minutes<400 Order By numvotes', conn)\n",
    "df"
   ]
  },
  {
   "cell_type": "markdown",
   "metadata": {},
   "source": [
    "Create another df to get just the directors and how well the directors movies did. Made sure that the director had a minimum of 10 movies made to ensure that they had a large enough sample size. Join on persons to get director name,join on movie_ratings to get average score"
   ]
  },
  {
   "cell_type": "code",
   "execution_count": 60,
   "metadata": {},
   "outputs": [
    {
     "data": {
      "text/html": [
       "<div>\n",
       "<style scoped>\n",
       "    .dataframe tbody tr th:only-of-type {\n",
       "        vertical-align: middle;\n",
       "    }\n",
       "\n",
       "    .dataframe tbody tr th {\n",
       "        vertical-align: top;\n",
       "    }\n",
       "\n",
       "    .dataframe thead th {\n",
       "        text-align: right;\n",
       "    }\n",
       "</style>\n",
       "<table border=\"1\" class=\"dataframe\">\n",
       "  <thead>\n",
       "    <tr style=\"text-align: right;\">\n",
       "      <th></th>\n",
       "      <th>movie_id</th>\n",
       "      <th>movie_num</th>\n",
       "      <th>director_id</th>\n",
       "      <th>avg_rating</th>\n",
       "      <th>name</th>\n",
       "    </tr>\n",
       "  </thead>\n",
       "  <tbody>\n",
       "    <tr>\n",
       "      <th>0</th>\n",
       "      <td>tt6588024</td>\n",
       "      <td>217</td>\n",
       "      <td>nm6935209</td>\n",
       "      <td>5.131336</td>\n",
       "      <td>Tony Newton</td>\n",
       "    </tr>\n",
       "    <tr>\n",
       "      <th>1</th>\n",
       "      <td>tt7583042</td>\n",
       "      <td>180</td>\n",
       "      <td>nm2563700</td>\n",
       "      <td>5.339444</td>\n",
       "      <td>Jason Impey</td>\n",
       "    </tr>\n",
       "    <tr>\n",
       "      <th>2</th>\n",
       "      <td>tt4050462</td>\n",
       "      <td>177</td>\n",
       "      <td>nm1546474</td>\n",
       "      <td>5.498305</td>\n",
       "      <td>Shane Ryan</td>\n",
       "    </tr>\n",
       "    <tr>\n",
       "      <th>3</th>\n",
       "      <td>tt4050462</td>\n",
       "      <td>150</td>\n",
       "      <td>nm3877467</td>\n",
       "      <td>5.854000</td>\n",
       "      <td>Ruben Rodriguez</td>\n",
       "    </tr>\n",
       "    <tr>\n",
       "      <th>4</th>\n",
       "      <td>tt3334746</td>\n",
       "      <td>135</td>\n",
       "      <td>nm6078996</td>\n",
       "      <td>5.548889</td>\n",
       "      <td>Martin Sonntag</td>\n",
       "    </tr>\n",
       "    <tr>\n",
       "      <th>...</th>\n",
       "      <td>...</td>\n",
       "      <td>...</td>\n",
       "      <td>...</td>\n",
       "      <td>...</td>\n",
       "      <td>...</td>\n",
       "    </tr>\n",
       "    <tr>\n",
       "      <th>2497</th>\n",
       "      <td>tt1399103</td>\n",
       "      <td>11</td>\n",
       "      <td>nm0000881</td>\n",
       "      <td>6.045455</td>\n",
       "      <td>Michael Bay</td>\n",
       "    </tr>\n",
       "    <tr>\n",
       "      <th>2498</th>\n",
       "      <td>tt1234654</td>\n",
       "      <td>11</td>\n",
       "      <td>nm0000876</td>\n",
       "      <td>6.690909</td>\n",
       "      <td>Noah Baumbach</td>\n",
       "    </tr>\n",
       "    <tr>\n",
       "      <th>2499</th>\n",
       "      <td>tt4459156</td>\n",
       "      <td>11</td>\n",
       "      <td>nm0000806</td>\n",
       "      <td>6.818182</td>\n",
       "      <td>Bille August</td>\n",
       "    </tr>\n",
       "    <tr>\n",
       "      <th>2500</th>\n",
       "      <td>tt2406252</td>\n",
       "      <td>11</td>\n",
       "      <td>nm0000591</td>\n",
       "      <td>6.790909</td>\n",
       "      <td>Roman Polanski</td>\n",
       "    </tr>\n",
       "    <tr>\n",
       "      <th>2501</th>\n",
       "      <td>tt1124035</td>\n",
       "      <td>11</td>\n",
       "      <td>nm0000123</td>\n",
       "      <td>6.190909</td>\n",
       "      <td>George Clooney</td>\n",
       "    </tr>\n",
       "  </tbody>\n",
       "</table>\n",
       "<p>2502 rows × 5 columns</p>\n",
       "</div>"
      ],
      "text/plain": [
       "       movie_id  movie_num director_id  avg_rating             name\n",
       "0     tt6588024        217   nm6935209    5.131336      Tony Newton\n",
       "1     tt7583042        180   nm2563700    5.339444      Jason Impey\n",
       "2     tt4050462        177   nm1546474    5.498305       Shane Ryan\n",
       "3     tt4050462        150   nm3877467    5.854000  Ruben Rodriguez\n",
       "4     tt3334746        135   nm6078996    5.548889   Martin Sonntag\n",
       "...         ...        ...         ...         ...              ...\n",
       "2497  tt1399103         11   nm0000881    6.045455      Michael Bay\n",
       "2498  tt1234654         11   nm0000876    6.690909    Noah Baumbach\n",
       "2499  tt4459156         11   nm0000806    6.818182     Bille August\n",
       "2500  tt2406252         11   nm0000591    6.790909   Roman Polanski\n",
       "2501  tt1124035         11   nm0000123    6.190909   George Clooney\n",
       "\n",
       "[2502 rows x 5 columns]"
      ]
     },
     "execution_count": 60,
     "metadata": {},
     "output_type": "execute_result"
    }
   ],
   "source": [
    "#df_directors=pd.read_sql('Select DISTINCT directors.movie_id,directors.person_id as director_id,movie_basics.primary_title,movie_basics.original_title,movie_basics.start_year,movie_basics.runtime_minutes,movie_basics.genres,movie_ratings.averagerating,movie_ratings.numvotes from movie_basics join movie_ratings Using(movie_id) join directors Using(movie_id) Where numvotes>100 AND runtime_minutes<400 Order By numvotes', conn)\n",
    "#df_directors\n",
    "#df_directors=pd.read_sql('Select DISTINCT directors.movie_id,Count(*) as movie_num,directors.person_id as director_id,AVG(movie_ratings.averagerating) as avg_rating from movie_ratings join directors Using(movie_id) Group By director_id Having movie_num > 10 Order By movie_num DESC ', conn)\n",
    "\n",
    "df_directors=pd.read_sql('Select DISTINCT directors.movie_id,Count(*) as movie_num,directors.person_id as director_id,AVG(movie_ratings.averagerating) as avg_rating, persons.primary_name as name from directors join persons on persons.person_id=directors.person_id join movie_ratings Using(movie_id) Group By director_id Having movie_num > 10 Order By movie_num DESC ', conn)\n",
    "df_directors\n"
   ]
  },
  {
   "cell_type": "markdown",
   "metadata": {},
   "source": [
    "Explore data frame"
   ]
  },
  {
   "cell_type": "code",
   "execution_count": 61,
   "metadata": {},
   "outputs": [
    {
     "name": "stdout",
     "output_type": "stream",
     "text": [
      "<class 'pandas.core.frame.DataFrame'>\n",
      "RangeIndex: 2502 entries, 0 to 2501\n",
      "Data columns (total 5 columns):\n",
      " #   Column       Non-Null Count  Dtype  \n",
      "---  ------       --------------  -----  \n",
      " 0   movie_id     2502 non-null   object \n",
      " 1   movie_num    2502 non-null   int64  \n",
      " 2   director_id  2502 non-null   object \n",
      " 3   avg_rating   2502 non-null   float64\n",
      " 4   name         2502 non-null   object \n",
      "dtypes: float64(1), int64(1), object(3)\n",
      "memory usage: 97.9+ KB\n"
     ]
    }
   ],
   "source": [
    "df_directors.info()"
   ]
  },
  {
   "cell_type": "markdown",
   "metadata": {},
   "source": [
    "Create another df of directors with smaller sample just for visualization purposes and to see who the top 10 are. Made sure to order by avg_rating and to limit it to 10"
   ]
  },
  {
   "cell_type": "code",
   "execution_count": 62,
   "metadata": {},
   "outputs": [
    {
     "data": {
      "text/html": [
       "<div>\n",
       "<style scoped>\n",
       "    .dataframe tbody tr th:only-of-type {\n",
       "        vertical-align: middle;\n",
       "    }\n",
       "\n",
       "    .dataframe tbody tr th {\n",
       "        vertical-align: top;\n",
       "    }\n",
       "\n",
       "    .dataframe thead th {\n",
       "        text-align: right;\n",
       "    }\n",
       "</style>\n",
       "<table border=\"1\" class=\"dataframe\">\n",
       "  <thead>\n",
       "    <tr style=\"text-align: right;\">\n",
       "      <th></th>\n",
       "      <th>movie_id</th>\n",
       "      <th>movie_num</th>\n",
       "      <th>director_id</th>\n",
       "      <th>avg_rating</th>\n",
       "      <th>name</th>\n",
       "    </tr>\n",
       "  </thead>\n",
       "  <tbody>\n",
       "    <tr>\n",
       "      <th>0</th>\n",
       "      <td>tt3488354</td>\n",
       "      <td>12</td>\n",
       "      <td>nm5083382</td>\n",
       "      <td>9.100000</td>\n",
       "      <td>Corey Lubowich</td>\n",
       "    </tr>\n",
       "    <tr>\n",
       "      <th>1</th>\n",
       "      <td>tt3428990</td>\n",
       "      <td>28</td>\n",
       "      <td>nm6179119</td>\n",
       "      <td>9.000000</td>\n",
       "      <td>Dennis Korbylo</td>\n",
       "    </tr>\n",
       "    <tr>\n",
       "      <th>2</th>\n",
       "      <td>tt3428990</td>\n",
       "      <td>28</td>\n",
       "      <td>nm6179118</td>\n",
       "      <td>9.000000</td>\n",
       "      <td>Erin Korbylo</td>\n",
       "    </tr>\n",
       "    <tr>\n",
       "      <th>3</th>\n",
       "      <td>tt3428990</td>\n",
       "      <td>28</td>\n",
       "      <td>nm6179115</td>\n",
       "      <td>9.000000</td>\n",
       "      <td>Sylvia Broeckx</td>\n",
       "    </tr>\n",
       "    <tr>\n",
       "      <th>4</th>\n",
       "      <td>tt1493812</td>\n",
       "      <td>17</td>\n",
       "      <td>nm0331653</td>\n",
       "      <td>9.000000</td>\n",
       "      <td>Lisa Gossels</td>\n",
       "    </tr>\n",
       "    <tr>\n",
       "      <th>5</th>\n",
       "      <td>tt7294234</td>\n",
       "      <td>14</td>\n",
       "      <td>nm6230910</td>\n",
       "      <td>8.671429</td>\n",
       "      <td>Elizabeth Blake-Thomas</td>\n",
       "    </tr>\n",
       "    <tr>\n",
       "      <th>6</th>\n",
       "      <td>tt10045072</td>\n",
       "      <td>11</td>\n",
       "      <td>nm2223858</td>\n",
       "      <td>8.654545</td>\n",
       "      <td>Steve Ravic</td>\n",
       "    </tr>\n",
       "    <tr>\n",
       "      <th>7</th>\n",
       "      <td>tt1894458</td>\n",
       "      <td>12</td>\n",
       "      <td>nm3025186</td>\n",
       "      <td>8.566667</td>\n",
       "      <td>Jason Reid</td>\n",
       "    </tr>\n",
       "    <tr>\n",
       "      <th>8</th>\n",
       "      <td>tt2233762</td>\n",
       "      <td>11</td>\n",
       "      <td>nm2019600</td>\n",
       "      <td>8.527273</td>\n",
       "      <td>Mahdi Fleifel</td>\n",
       "    </tr>\n",
       "    <tr>\n",
       "      <th>9</th>\n",
       "      <td>tt8628960</td>\n",
       "      <td>11</td>\n",
       "      <td>nm1202346</td>\n",
       "      <td>8.418182</td>\n",
       "      <td>Damir Cucic</td>\n",
       "    </tr>\n",
       "  </tbody>\n",
       "</table>\n",
       "</div>"
      ],
      "text/plain": [
       "     movie_id  movie_num director_id  avg_rating                    name\n",
       "0   tt3488354         12   nm5083382    9.100000          Corey Lubowich\n",
       "1   tt3428990         28   nm6179119    9.000000          Dennis Korbylo\n",
       "2   tt3428990         28   nm6179118    9.000000            Erin Korbylo\n",
       "3   tt3428990         28   nm6179115    9.000000          Sylvia Broeckx\n",
       "4   tt1493812         17   nm0331653    9.000000            Lisa Gossels\n",
       "5   tt7294234         14   nm6230910    8.671429  Elizabeth Blake-Thomas\n",
       "6  tt10045072         11   nm2223858    8.654545             Steve Ravic\n",
       "7   tt1894458         12   nm3025186    8.566667              Jason Reid\n",
       "8   tt2233762         11   nm2019600    8.527273           Mahdi Fleifel\n",
       "9   tt8628960         11   nm1202346    8.418182             Damir Cucic"
      ]
     },
     "execution_count": 62,
     "metadata": {},
     "output_type": "execute_result"
    }
   ],
   "source": [
    "df_directors2=pd.read_sql('Select DISTINCT directors.movie_id,Count(*) as movie_num,directors.person_id as director_id,AVG(movie_ratings.averagerating) as avg_rating, persons.primary_name as name from directors join persons on persons.person_id=directors.person_id join movie_ratings Using(movie_id) Group By director_id Having movie_num > 10 Order By avg_rating DESC Limit 10 ', conn)\n",
    "df_directors2"
   ]
  },
  {
   "cell_type": "markdown",
   "metadata": {},
   "source": [
    "# Clean Data/Data manipulation"
   ]
  },
  {
   "cell_type": "markdown",
   "metadata": {},
   "source": [
    "Change float value to an int"
   ]
  },
  {
   "cell_type": "code",
   "execution_count": 63,
   "metadata": {},
   "outputs": [
    {
     "data": {
      "text/html": [
       "<div>\n",
       "<style scoped>\n",
       "    .dataframe tbody tr th:only-of-type {\n",
       "        vertical-align: middle;\n",
       "    }\n",
       "\n",
       "    .dataframe tbody tr th {\n",
       "        vertical-align: top;\n",
       "    }\n",
       "\n",
       "    .dataframe thead th {\n",
       "        text-align: right;\n",
       "    }\n",
       "</style>\n",
       "<table border=\"1\" class=\"dataframe\">\n",
       "  <thead>\n",
       "    <tr style=\"text-align: right;\">\n",
       "      <th></th>\n",
       "      <th>movie_id</th>\n",
       "      <th>movie_num</th>\n",
       "      <th>director_id</th>\n",
       "      <th>avg_rating</th>\n",
       "      <th>name</th>\n",
       "    </tr>\n",
       "  </thead>\n",
       "  <tbody>\n",
       "    <tr>\n",
       "      <th>0</th>\n",
       "      <td>tt6588024</td>\n",
       "      <td>217</td>\n",
       "      <td>nm6935209</td>\n",
       "      <td>5</td>\n",
       "      <td>Tony Newton</td>\n",
       "    </tr>\n",
       "    <tr>\n",
       "      <th>1</th>\n",
       "      <td>tt7583042</td>\n",
       "      <td>180</td>\n",
       "      <td>nm2563700</td>\n",
       "      <td>5</td>\n",
       "      <td>Jason Impey</td>\n",
       "    </tr>\n",
       "    <tr>\n",
       "      <th>2</th>\n",
       "      <td>tt4050462</td>\n",
       "      <td>177</td>\n",
       "      <td>nm1546474</td>\n",
       "      <td>5</td>\n",
       "      <td>Shane Ryan</td>\n",
       "    </tr>\n",
       "    <tr>\n",
       "      <th>3</th>\n",
       "      <td>tt4050462</td>\n",
       "      <td>150</td>\n",
       "      <td>nm3877467</td>\n",
       "      <td>5</td>\n",
       "      <td>Ruben Rodriguez</td>\n",
       "    </tr>\n",
       "    <tr>\n",
       "      <th>4</th>\n",
       "      <td>tt3334746</td>\n",
       "      <td>135</td>\n",
       "      <td>nm6078996</td>\n",
       "      <td>5</td>\n",
       "      <td>Martin Sonntag</td>\n",
       "    </tr>\n",
       "    <tr>\n",
       "      <th>...</th>\n",
       "      <td>...</td>\n",
       "      <td>...</td>\n",
       "      <td>...</td>\n",
       "      <td>...</td>\n",
       "      <td>...</td>\n",
       "    </tr>\n",
       "    <tr>\n",
       "      <th>2497</th>\n",
       "      <td>tt1399103</td>\n",
       "      <td>11</td>\n",
       "      <td>nm0000881</td>\n",
       "      <td>6</td>\n",
       "      <td>Michael Bay</td>\n",
       "    </tr>\n",
       "    <tr>\n",
       "      <th>2498</th>\n",
       "      <td>tt1234654</td>\n",
       "      <td>11</td>\n",
       "      <td>nm0000876</td>\n",
       "      <td>6</td>\n",
       "      <td>Noah Baumbach</td>\n",
       "    </tr>\n",
       "    <tr>\n",
       "      <th>2499</th>\n",
       "      <td>tt4459156</td>\n",
       "      <td>11</td>\n",
       "      <td>nm0000806</td>\n",
       "      <td>6</td>\n",
       "      <td>Bille August</td>\n",
       "    </tr>\n",
       "    <tr>\n",
       "      <th>2500</th>\n",
       "      <td>tt2406252</td>\n",
       "      <td>11</td>\n",
       "      <td>nm0000591</td>\n",
       "      <td>6</td>\n",
       "      <td>Roman Polanski</td>\n",
       "    </tr>\n",
       "    <tr>\n",
       "      <th>2501</th>\n",
       "      <td>tt1124035</td>\n",
       "      <td>11</td>\n",
       "      <td>nm0000123</td>\n",
       "      <td>6</td>\n",
       "      <td>George Clooney</td>\n",
       "    </tr>\n",
       "  </tbody>\n",
       "</table>\n",
       "<p>2502 rows × 5 columns</p>\n",
       "</div>"
      ],
      "text/plain": [
       "       movie_id  movie_num director_id  avg_rating             name\n",
       "0     tt6588024        217   nm6935209           5      Tony Newton\n",
       "1     tt7583042        180   nm2563700           5      Jason Impey\n",
       "2     tt4050462        177   nm1546474           5       Shane Ryan\n",
       "3     tt4050462        150   nm3877467           5  Ruben Rodriguez\n",
       "4     tt3334746        135   nm6078996           5   Martin Sonntag\n",
       "...         ...        ...         ...         ...              ...\n",
       "2497  tt1399103         11   nm0000881           6      Michael Bay\n",
       "2498  tt1234654         11   nm0000876           6    Noah Baumbach\n",
       "2499  tt4459156         11   nm0000806           6     Bille August\n",
       "2500  tt2406252         11   nm0000591           6   Roman Polanski\n",
       "2501  tt1124035         11   nm0000123           6   George Clooney\n",
       "\n",
       "[2502 rows x 5 columns]"
      ]
     },
     "execution_count": 63,
     "metadata": {},
     "output_type": "execute_result"
    }
   ],
   "source": [
    "df_directors['avg_rating']=df_directors.avg_rating.astype(int)\n",
    "df_directors"
   ]
  },
  {
   "cell_type": "markdown",
   "metadata": {},
   "source": [
    "Create a duplicate table for directors"
   ]
  },
  {
   "cell_type": "code",
   "execution_count": 64,
   "metadata": {},
   "outputs": [],
   "source": [
    "temp=pd.DataFrame()\n",
    "temp['director_id']=df_directors['director_id']\n",
    "temp['rating']=df_directors['avg_rating']"
   ]
  },
  {
   "cell_type": "markdown",
   "metadata": {},
   "source": [
    "Check to see if any values are Null"
   ]
  },
  {
   "cell_type": "code",
   "execution_count": 65,
   "metadata": {},
   "outputs": [
    {
     "data": {
      "text/plain": [
       "movie_id           False\n",
       "primary_title      False\n",
       "original_title     False\n",
       "start_year         False\n",
       "runtime_minutes    False\n",
       "genres              True\n",
       "averagerating      False\n",
       "numvotes           False\n",
       "dtype: bool"
      ]
     },
     "execution_count": 65,
     "metadata": {},
     "output_type": "execute_result"
    }
   ],
   "source": [
    "df.isna().any()"
   ]
  },
  {
   "cell_type": "markdown",
   "metadata": {},
   "source": [
    "Check to see what percent of the values are null to understand how to handle missing data"
   ]
  },
  {
   "cell_type": "code",
   "execution_count": 66,
   "metadata": {},
   "outputs": [
    {
     "data": {
      "text/plain": [
       "0.0004664346453302716"
      ]
     },
     "execution_count": 66,
     "metadata": {},
     "output_type": "execute_result"
    }
   ],
   "source": [
    "len(df[df.runtime_minutes.isna()])/ len(df)\n",
    "len(df[df.genres.isna()])/ len(df)"
   ]
  },
  {
   "cell_type": "markdown",
   "metadata": {},
   "source": [
    "Fill null in genres tables and check again"
   ]
  },
  {
   "cell_type": "code",
   "execution_count": 67,
   "metadata": {},
   "outputs": [
    {
     "data": {
      "text/plain": [
       "movie_id           False\n",
       "primary_title      False\n",
       "original_title     False\n",
       "start_year         False\n",
       "runtime_minutes    False\n",
       "genres             False\n",
       "averagerating      False\n",
       "numvotes           False\n",
       "dtype: bool"
      ]
     },
     "execution_count": 67,
     "metadata": {},
     "output_type": "execute_result"
    }
   ],
   "source": [
    "df['genres'] = df['genres'].fillna(value='None')\n",
    "df['original_title'] = df['original_title'].fillna(value=df['primary_title'])\n",
    "df.isna().any()"
   ]
  },
  {
   "cell_type": "markdown",
   "metadata": {},
   "source": [
    "Other checks on data "
   ]
  },
  {
   "cell_type": "code",
   "execution_count": 68,
   "metadata": {},
   "outputs": [
    {
     "data": {
      "text/plain": [
       "90.0     1824\n",
       "100.0     995\n",
       "95.0      933\n",
       "85.0      824\n",
       "93.0      745\n",
       "         ... \n",
       "272.0       1\n",
       "184.0       1\n",
       "29.0        1\n",
       "42.0        1\n",
       "226.0       1\n",
       "Name: runtime_minutes, Length: 198, dtype: int64"
      ]
     },
     "execution_count": 68,
     "metadata": {},
     "output_type": "execute_result"
    }
   ],
   "source": [
    "df[\"genres\"].value_counts()\n",
    "df[\"original_title\"].value_counts()\n",
    "df[\"primary_title\"].value_counts()\n",
    "df[\"runtime_minutes\"].value_counts()"
   ]
  },
  {
   "cell_type": "markdown",
   "metadata": {},
   "source": [
    "Check directors for null"
   ]
  },
  {
   "cell_type": "code",
   "execution_count": 69,
   "metadata": {},
   "outputs": [
    {
     "data": {
      "text/plain": [
       "movie_id       False\n",
       "movie_num      False\n",
       "director_id    False\n",
       "avg_rating     False\n",
       "name           False\n",
       "dtype: bool"
      ]
     },
     "execution_count": 69,
     "metadata": {},
     "output_type": "execute_result"
    }
   ],
   "source": [
    "df_directors.isna().any()"
   ]
  },
  {
   "cell_type": "markdown",
   "metadata": {},
   "source": [
    "Since movies can have multiple genres and they are listed as string , we must manipulate genres into boolean values and create a column for each Genre, in order to do this we must put genres into an array"
   ]
  },
  {
   "cell_type": "code",
   "execution_count": 70,
   "metadata": {},
   "outputs": [],
   "source": [
    "g=[]\n",
    "j=[]\n",
    "count=0\n",
    "for i in df['genres']:\n",
    "    j=i.split(',')\n",
    "    g.append(j)\n",
    "df['genres']=g"
   ]
  },
  {
   "cell_type": "markdown",
   "metadata": {},
   "source": [
    "Next put the values into the new columns within the dataframe"
   ]
  },
  {
   "cell_type": "code",
   "execution_count": 71,
   "metadata": {},
   "outputs": [],
   "source": [
    "genres_list=['Documentary', 'Drama','Comedy','Horror','Thriller','Action','Bigoraphy','Romance' ,'Music','History','Family','Sport','Animation','Crime','Sci-Fi','War','Mystery','Western']\n",
    "\n",
    "for gl in genres_list:\n",
    "    g2=[]\n",
    "    for g3 in df['genres']:\n",
    "        if gl in g3:\n",
    "            g2.append(True)\n",
    "        else:\n",
    "            g2.append(False)\n",
    "    df[gl]=g2\n"
   ]
  },
  {
   "cell_type": "markdown",
   "metadata": {},
   "source": [
    "Check Table"
   ]
  },
  {
   "cell_type": "code",
   "execution_count": 72,
   "metadata": {},
   "outputs": [
    {
     "data": {
      "text/html": [
       "<div>\n",
       "<style scoped>\n",
       "    .dataframe tbody tr th:only-of-type {\n",
       "        vertical-align: middle;\n",
       "    }\n",
       "\n",
       "    .dataframe tbody tr th {\n",
       "        vertical-align: top;\n",
       "    }\n",
       "\n",
       "    .dataframe thead th {\n",
       "        text-align: right;\n",
       "    }\n",
       "</style>\n",
       "<table border=\"1\" class=\"dataframe\">\n",
       "  <thead>\n",
       "    <tr style=\"text-align: right;\">\n",
       "      <th></th>\n",
       "      <th>movie_id</th>\n",
       "      <th>movie_num</th>\n",
       "      <th>director_id</th>\n",
       "      <th>avg_rating</th>\n",
       "      <th>name</th>\n",
       "    </tr>\n",
       "  </thead>\n",
       "  <tbody>\n",
       "    <tr>\n",
       "      <th>0</th>\n",
       "      <td>tt6588024</td>\n",
       "      <td>217</td>\n",
       "      <td>nm6935209</td>\n",
       "      <td>5</td>\n",
       "      <td>Tony Newton</td>\n",
       "    </tr>\n",
       "    <tr>\n",
       "      <th>1</th>\n",
       "      <td>tt7583042</td>\n",
       "      <td>180</td>\n",
       "      <td>nm2563700</td>\n",
       "      <td>5</td>\n",
       "      <td>Jason Impey</td>\n",
       "    </tr>\n",
       "    <tr>\n",
       "      <th>2</th>\n",
       "      <td>tt4050462</td>\n",
       "      <td>177</td>\n",
       "      <td>nm1546474</td>\n",
       "      <td>5</td>\n",
       "      <td>Shane Ryan</td>\n",
       "    </tr>\n",
       "    <tr>\n",
       "      <th>3</th>\n",
       "      <td>tt4050462</td>\n",
       "      <td>150</td>\n",
       "      <td>nm3877467</td>\n",
       "      <td>5</td>\n",
       "      <td>Ruben Rodriguez</td>\n",
       "    </tr>\n",
       "    <tr>\n",
       "      <th>4</th>\n",
       "      <td>tt3334746</td>\n",
       "      <td>135</td>\n",
       "      <td>nm6078996</td>\n",
       "      <td>5</td>\n",
       "      <td>Martin Sonntag</td>\n",
       "    </tr>\n",
       "    <tr>\n",
       "      <th>...</th>\n",
       "      <td>...</td>\n",
       "      <td>...</td>\n",
       "      <td>...</td>\n",
       "      <td>...</td>\n",
       "      <td>...</td>\n",
       "    </tr>\n",
       "    <tr>\n",
       "      <th>2497</th>\n",
       "      <td>tt1399103</td>\n",
       "      <td>11</td>\n",
       "      <td>nm0000881</td>\n",
       "      <td>6</td>\n",
       "      <td>Michael Bay</td>\n",
       "    </tr>\n",
       "    <tr>\n",
       "      <th>2498</th>\n",
       "      <td>tt1234654</td>\n",
       "      <td>11</td>\n",
       "      <td>nm0000876</td>\n",
       "      <td>6</td>\n",
       "      <td>Noah Baumbach</td>\n",
       "    </tr>\n",
       "    <tr>\n",
       "      <th>2499</th>\n",
       "      <td>tt4459156</td>\n",
       "      <td>11</td>\n",
       "      <td>nm0000806</td>\n",
       "      <td>6</td>\n",
       "      <td>Bille August</td>\n",
       "    </tr>\n",
       "    <tr>\n",
       "      <th>2500</th>\n",
       "      <td>tt2406252</td>\n",
       "      <td>11</td>\n",
       "      <td>nm0000591</td>\n",
       "      <td>6</td>\n",
       "      <td>Roman Polanski</td>\n",
       "    </tr>\n",
       "    <tr>\n",
       "      <th>2501</th>\n",
       "      <td>tt1124035</td>\n",
       "      <td>11</td>\n",
       "      <td>nm0000123</td>\n",
       "      <td>6</td>\n",
       "      <td>George Clooney</td>\n",
       "    </tr>\n",
       "  </tbody>\n",
       "</table>\n",
       "<p>2502 rows × 5 columns</p>\n",
       "</div>"
      ],
      "text/plain": [
       "       movie_id  movie_num director_id  avg_rating             name\n",
       "0     tt6588024        217   nm6935209           5      Tony Newton\n",
       "1     tt7583042        180   nm2563700           5      Jason Impey\n",
       "2     tt4050462        177   nm1546474           5       Shane Ryan\n",
       "3     tt4050462        150   nm3877467           5  Ruben Rodriguez\n",
       "4     tt3334746        135   nm6078996           5   Martin Sonntag\n",
       "...         ...        ...         ...         ...              ...\n",
       "2497  tt1399103         11   nm0000881           6      Michael Bay\n",
       "2498  tt1234654         11   nm0000876           6    Noah Baumbach\n",
       "2499  tt4459156         11   nm0000806           6     Bille August\n",
       "2500  tt2406252         11   nm0000591           6   Roman Polanski\n",
       "2501  tt1124035         11   nm0000123           6   George Clooney\n",
       "\n",
       "[2502 rows x 5 columns]"
      ]
     },
     "execution_count": 72,
     "metadata": {},
     "output_type": "execute_result"
    }
   ],
   "source": [
    "df_directors"
   ]
  },
  {
   "cell_type": "markdown",
   "metadata": {},
   "source": [
    "Create another table for the genres where they are listed multiple times for consistency with other csv data analysis and consistency with other notebooks"
   ]
  },
  {
   "cell_type": "code",
   "execution_count": 73,
   "metadata": {},
   "outputs": [
    {
     "data": {
      "text/html": [
       "<div>\n",
       "<style scoped>\n",
       "    .dataframe tbody tr th:only-of-type {\n",
       "        vertical-align: middle;\n",
       "    }\n",
       "\n",
       "    .dataframe tbody tr th {\n",
       "        vertical-align: top;\n",
       "    }\n",
       "\n",
       "    .dataframe thead th {\n",
       "        text-align: right;\n",
       "    }\n",
       "</style>\n",
       "<table border=\"1\" class=\"dataframe\">\n",
       "  <thead>\n",
       "    <tr style=\"text-align: right;\">\n",
       "      <th></th>\n",
       "      <th>movie_ids</th>\n",
       "      <th>genres</th>\n",
       "    </tr>\n",
       "  </thead>\n",
       "  <tbody>\n",
       "    <tr>\n",
       "      <th>0</th>\n",
       "      <td>tt0063540</td>\n",
       "      <td>Action</td>\n",
       "    </tr>\n",
       "    <tr>\n",
       "      <th>1</th>\n",
       "      <td>tt0063540</td>\n",
       "      <td>Crime</td>\n",
       "    </tr>\n",
       "    <tr>\n",
       "      <th>2</th>\n",
       "      <td>tt0063540</td>\n",
       "      <td>Drama</td>\n",
       "    </tr>\n",
       "    <tr>\n",
       "      <th>3</th>\n",
       "      <td>tt0066787</td>\n",
       "      <td>Biography</td>\n",
       "    </tr>\n",
       "    <tr>\n",
       "      <th>4</th>\n",
       "      <td>tt0066787</td>\n",
       "      <td>Drama</td>\n",
       "    </tr>\n",
       "    <tr>\n",
       "      <th>...</th>\n",
       "      <td>...</td>\n",
       "      <td>...</td>\n",
       "    </tr>\n",
       "    <tr>\n",
       "      <th>234953</th>\n",
       "      <td>tt9916538</td>\n",
       "      <td>Drama</td>\n",
       "    </tr>\n",
       "    <tr>\n",
       "      <th>234954</th>\n",
       "      <td>tt9916622</td>\n",
       "      <td>Documentary</td>\n",
       "    </tr>\n",
       "    <tr>\n",
       "      <th>234955</th>\n",
       "      <td>tt9916706</td>\n",
       "      <td>Comedy</td>\n",
       "    </tr>\n",
       "    <tr>\n",
       "      <th>234956</th>\n",
       "      <td>tt9916730</td>\n",
       "      <td>None</td>\n",
       "    </tr>\n",
       "    <tr>\n",
       "      <th>234957</th>\n",
       "      <td>tt9916754</td>\n",
       "      <td>Documentary</td>\n",
       "    </tr>\n",
       "  </tbody>\n",
       "</table>\n",
       "<p>234958 rows × 2 columns</p>\n",
       "</div>"
      ],
      "text/plain": [
       "        movie_ids       genres\n",
       "0       tt0063540       Action\n",
       "1       tt0063540        Crime\n",
       "2       tt0063540        Drama\n",
       "3       tt0066787    Biography\n",
       "4       tt0066787        Drama\n",
       "...           ...          ...\n",
       "234953  tt9916538        Drama\n",
       "234954  tt9916622  Documentary\n",
       "234955  tt9916706       Comedy\n",
       "234956  tt9916730         None\n",
       "234957  tt9916754  Documentary\n",
       "\n",
       "[234958 rows x 2 columns]"
      ]
     },
     "execution_count": 73,
     "metadata": {},
     "output_type": "execute_result"
    }
   ],
   "source": [
    "genre_table=pd.read_sql('Select genres,movie_id from movie_basics', conn)\n",
    "genre_table['genres'] = genre_table['genres'].fillna(value='None')\n",
    "g=[]\n",
    "j=[]\n",
    "count=0\n",
    "for i in genre_table['genres']:\n",
    "    j=i.split(',')\n",
    "    g.append(j)\n",
    "genre_table['genres']=g\n",
    "ids = []\n",
    "genre = []\n",
    "vote_averages = []\n",
    "temp_genres = {'movie_ids': ids, 'genres': genre}\n",
    "\n",
    "for index, row in genre_table.iterrows():\n",
    "    for gen in row[0]:\n",
    "        ids.append(row[1])\n",
    "        genre.append(gen)\n",
    "        \n",
    "\n",
    "genres_frame = pd.DataFrame(temp_genres)\n",
    "genres_frame"
   ]
  },
  {
   "cell_type": "markdown",
   "metadata": {},
   "source": [
    "# Visualizations"
   ]
  },
  {
   "cell_type": "markdown",
   "metadata": {},
   "source": [
    "Other notebooks have genre visualization so now we will make one with directors vs rating"
   ]
  },
  {
   "cell_type": "code",
   "execution_count": 74,
   "metadata": {},
   "outputs": [
    {
     "data": {
      "image/png": "[encoded data removed]",
      "text/plain": [
       "<Figure size 2160x720 with 1 Axes>"
      ]
     },
     "metadata": {
      "needs_background": "light"
     },
     "output_type": "display_data"
    }
   ],
   "source": [
    "fig,ax=plt.subplots(figsize=(30,10))"
   ]
  },
  {
   "cell_type": "markdown",
   "metadata": {},
   "source": [
    "Scatterplot to see if runtime minutes effects average rating"
   ]
  },
  {
   "cell_type": "code",
   "execution_count": 75,
   "metadata": {},
   "outputs": [
    {
     "data": {
      "text/plain": [
       "<AxesSubplot:xlabel='runtime_minutes', ylabel='averagerating'>"
      ]
     },
     "execution_count": 75,
     "metadata": {},
     "output_type": "execute_result"
    },
    {
     "data": {
      "image/png": "[encoded data removed]",
      "text/plain": [
       "<Figure size 432x288 with 1 Axes>"
      ]
     },
     "metadata": {
      "needs_background": "light"
     },
     "output_type": "display_data"
    }
   ],
   "source": [
    "sns.scatterplot(data=df, x='runtime_minutes', y='averagerating')"
   ]
  },
  {
   "cell_type": "markdown",
   "metadata": {},
   "source": [
    "See what the average rating is to see if we want to add a mean line to visualization"
   ]
  },
  {
   "cell_type": "code",
   "execution_count": 76,
   "metadata": {},
   "outputs": [
    {
     "data": {
      "text/plain": [
       "5.450439648281375"
      ]
     },
     "execution_count": 76,
     "metadata": {},
     "output_type": "execute_result"
    }
   ],
   "source": [
    "df_directors['avg_rating'].mean()"
   ]
  },
  {
   "cell_type": "markdown",
   "metadata": {},
   "source": [
    "Create visualization for average rating and the number of directors who have that rating to understand the distribution of ratings"
   ]
  },
  {
   "cell_type": "code",
   "execution_count": 77,
   "metadata": {},
   "outputs": [
    {
     "data": {
      "text/plain": [
       "[Text(0.5, 0, 'Average rating'),\n",
       " Text(0, 0.5, 'Number of Directors'),\n",
       " Text(0.5, 1.0, 'Average rating distribution')]"
      ]
     },
     "execution_count": 77,
     "metadata": {},
     "output_type": "execute_result"
    },
    {
     "data": {
      "image/png": "[encoded data removed]",
      "text/plain": [
       "<Figure size 1008x648 with 1 Axes>"
      ]
     },
     "metadata": {
      "needs_background": "light"
     },
     "output_type": "display_data"
    }
   ],
   "source": [
    "sns.set_context('talk')\n",
    "fig,ax=plt.subplots(figsize=(14,9))\n",
    "countplot=sns.countplot(\n",
    "    data=df_directors,  \n",
    "    x='avg_rating',\n",
    "    order=[1,2,3,4,5,6,7,8,9],\n",
    "    palette='mako_r'\n",
    "    )\n",
    "plt.ylim(0,800)\n",
    "countplot.set(xlabel = \"Average rating\", ylabel='Number of Directors', title='Average rating distribution')"
   ]
  },
  {
   "cell_type": "markdown",
   "metadata": {},
   "source": [
    "Visualization for smaller data set of top directors to see who the top directors are and what their ratings are"
   ]
  },
  {
   "cell_type": "code",
   "execution_count": 78,
   "metadata": {},
   "outputs": [
    {
     "data": {
      "text/plain": [
       "[Text(0.5, 0, 'Director'),\n",
       " Text(0, 0.5, 'Ratings'),\n",
       " Text(0.5, 1.0, 'Top Directors')]"
      ]
     },
     "execution_count": 78,
     "metadata": {},
     "output_type": "execute_result"
    },
    {
     "data": {
      "image/png": "[encoded data removed]",
      "text/plain": [
       "<Figure size 1008x648 with 1 Axes>"
      ]
     },
     "metadata": {
      "needs_background": "light"
     },
     "output_type": "display_data"
    }
   ],
   "source": [
    "fig,ax=plt.subplots(figsize=(14,9))\n",
    "barplot=sns.barplot(\n",
    "    data=df_directors2, \n",
    "    y='name', \n",
    "    x='avg_rating',\n",
    "    palette='mako_r'\n",
    "    )\n",
    "plt.xlim(8,9.2 )\n",
    "sns.set_context('talk')\n",
    "barplot.set(xlabel = \"Director\", ylabel='Ratings', title='Top Directors')"
   ]
  },
  {
   "cell_type": "markdown",
   "metadata": {},
   "source": [
    "Another visual but no title this time because it is for powerpoint"
   ]
  },
  {
   "cell_type": "code",
   "execution_count": 79,
   "metadata": {},
   "outputs": [
    {
     "data": {
      "text/plain": [
       "[Text(0, 0.5, 'Director'), Text(0.5, 0, 'Ratings')]"
      ]
     },
     "execution_count": 79,
     "metadata": {},
     "output_type": "execute_result"
    },
    {
     "data": {
      "image/png": "[encoded data removed]",
      "text/plain": [
       "<Figure size 1008x648 with 1 Axes>"
      ]
     },
     "metadata": {
      "needs_background": "light"
     },
     "output_type": "display_data"
    }
   ],
   "source": [
    "fig,ax=plt.subplots(figsize=(14,9))\n",
    "barplot=sns.barplot(\n",
    "    data=df_directors2, \n",
    "    y='name', \n",
    "    x='avg_rating',\n",
    "    palette='mako_r'\n",
    "    )\n",
    "plt.xlim(8,9.2 )\n",
    "barplot.set(ylabel = \"Director\", xlabel='Ratings')"
   ]
  },
  {
   "cell_type": "markdown",
   "metadata": {},
   "source": [
    "Larger dataset visualization"
   ]
  },
  {
   "cell_type": "code",
   "execution_count": 80,
   "metadata": {},
   "outputs": [
    {
     "data": {
      "text/plain": [
       "<AxesSubplot:xlabel='director_id', ylabel='avg_rating'>"
      ]
     },
     "execution_count": 80,
     "metadata": {},
     "output_type": "execute_result"
    },
    {
     "data": {
      "image/png": "[encoded data removed]",
      "text/plain": [
       "<Figure size 432x288 with 1 Axes>"
      ]
     },
     "metadata": {
      "needs_background": "light"
     },
     "output_type": "display_data"
    }
   ],
   "source": [
    "x=df_directors['director_id']\n",
    "y=df_directors['avg_rating']\n",
    "sns.barplot(\n",
    "    data=df_directors, \n",
    "    x='director_id', \n",
    "    y='avg_rating'\n",
    "    )"
   ]
  },
  {
   "cell_type": "markdown",
   "metadata": {},
   "source": [
    "# Analysis Complete"
   ]
  },
  {
   "cell_type": "markdown",
   "metadata": {},
   "source": [
    "Close connection"
   ]
  },
  {
   "cell_type": "code",
   "execution_count": 81,
   "metadata": {},
   "outputs": [],
   "source": [
    "conn.close()"
   ]
  }
 ],
 "metadata": {
  "kernelspec": {
   "display_name": "Python 3",
   "language": "python",
   "name": "python3"
  },
  "language_info": {
   "codemirror_mode": {
    "name": "ipython",
    "version": 3
   },
   "file_extension": ".py",
   "mimetype": "text/x-python",
   "name": "python",
   "nbconvert_exporter": "python",
   "pygments_lexer": "ipython3",
   "version": "3.8.5"
  },
  "vscode": {
   "interpreter": {
    "hash": "38daddc1a518c20238c4ce20fc742902188cece8b7382148b3fe4e907c32bc4d"
   }
  }
 },
 "nbformat": 4,
 "nbformat_minor": 2
}
