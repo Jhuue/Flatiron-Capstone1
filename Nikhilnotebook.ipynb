{
 "cells": [
  {
   "cell_type": "code",
   "execution_count": null,
   "metadata": {},
   "outputs": [],
   "source": [
    "#import necessary Libraries\n",
    "import pandas as pd \n",
    "import numpy as np\n",
    "import sqlite3\n",
    "#sadsd=pd.read_csv('Data/bom.movie_gross.csv')\n",
    "#load data set\n",
    "conn = sqlite3.connect('Data/im.db')\n",
    "df=pd.read_sql('Select * from movie_basics', conn)\n",
    "df\n",
    "pd.read_sql('Select * from movie_basics', conn)"
   ]
  },
  {
   "cell_type": "code",
   "execution_count": null,
   "metadata": {},
   "outputs": [],
   "source": [
    "#check to see what values are null\n",
    "df.isna().any()\n",
    "len(df[df.runtime_minutes.isna()])/ len(df)\n",
    "#20% of movies do not have runtime listed"
   ]
  },
  {
   "cell_type": "code",
   "execution_count": null,
   "metadata": {},
   "outputs": [],
   "source": [
    "#transform minutes into hours and minutes\n",
    "#replace na values with average movie length\n",
    "z=df['runtime_minutes'].mean()\n",
    "df['runtime_minutes'] = df['runtime_minutes'].fillna(value=z)\n",
    "df['hours']= df['runtime_minutes']/60\n",
    "df['minutes']=df['runtime_minutes'] %60\n",
    "df['minutes']=df['minutes'].round"
   ]
  },
  {
   "cell_type": "code",
   "execution_count": null,
   "metadata": {},
   "outputs": [],
   "source": [
    "#other option is drop it\n",
    "df.dropna(subset=['runtime_minutes'],inplace=True)"
   ]
  },
  {
   "cell_type": "code",
   "execution_count": null,
   "metadata": {},
   "outputs": [],
   "source": [
    "#replace original titles that are na with primary title\n",
    "df['original_title'] = df['original_title'].fillna(value=df['primary_title'])"
   ]
  },
  {
   "cell_type": "code",
   "execution_count": null,
   "metadata": {},
   "outputs": [],
   "source": [
    "#replace na genres with none\n",
    "df['genres'] = df['genres'].fillna(value='None')"
   ]
  },
  {
   "cell_type": "code",
   "execution_count": null,
   "metadata": {},
   "outputs": [],
   "source": [
    "#check to see values are okay\n",
    "df[\"genres\"].value_counts()\n",
    "df[\"original_title\"].value_counts()\n",
    "df[\"primary_title\"].value_counts()\n",
    "df[\"runtime_minutes\"].value_counts()"
   ]
  },
  {
   "cell_type": "code",
   "execution_count": null,
   "metadata": {},
   "outputs": [],
   "source": [
    "movie_akas=pd.read_sql('Select * from movie_akas', conn)\n",
    "movie_akas"
   ]
  },
  {
   "cell_type": "code",
   "execution_count": null,
   "metadata": {},
   "outputs": [],
   "source": [
    "movie_akas[\"attributes\"].value_counts()"
   ]
  },
  {
   "cell_type": "code",
   "execution_count": null,
   "metadata": {},
   "outputs": [],
   "source": [
    "movie_akas.isna().any()"
   ]
  },
  {
   "cell_type": "code",
   "execution_count": null,
   "metadata": {},
   "outputs": [],
   "source": [
    "len(movie_akas[movie_akas.language.isna()])/ len(movie_akas)"
   ]
  },
  {
   "cell_type": "code",
   "execution_count": null,
   "metadata": {},
   "outputs": [],
   "source": [
    "len(movie_akas[movie_akas.region.isna()])/ len(movie_akas)"
   ]
  },
  {
   "cell_type": "code",
   "execution_count": null,
   "metadata": {},
   "outputs": [],
   "source": [
    "movie_akas['language'] = movie_akas['language'].fillna(value=movie_akas['region'])"
   ]
  },
  {
   "cell_type": "code",
   "execution_count": null,
   "metadata": {},
   "outputs": [],
   "source": [
    "pd.read_sql('Select Count(*)  from movie_basics', conn)"
   ]
  },
  {
   "cell_type": "code",
   "execution_count": null,
   "metadata": {},
   "outputs": [],
   "source": [
    "#Anything below This is stuff that we probably will not use more exploratory purposes"
   ]
  },
  {
   "cell_type": "code",
   "execution_count": null,
   "metadata": {},
   "outputs": [],
   "source": [
    "#replace none with average\n",
    "pd.read_sql('Select AVG(runtime_minutes)  from movie_basics', conn)"
   ]
  },
  {
   "cell_type": "code",
   "execution_count": null,
   "metadata": {},
   "outputs": [],
   "source": [
    "pd.read_sql('Select * from movie_ratings', conn)"
   ]
  },
  {
   "cell_type": "code",
   "execution_count": null,
   "metadata": {},
   "outputs": [],
   "source": [
    "pd.read_sql('Select Count(*)  from movie_ratings', conn)"
   ]
  },
  {
   "cell_type": "code",
   "execution_count": null,
   "metadata": {},
   "outputs": [],
   "source": [
    "pd.read_sql('Select Count(*)  from movie_ratings Where numvotes<6', conn)"
   ]
  },
  {
   "cell_type": "code",
   "execution_count": null,
   "metadata": {},
   "outputs": [],
   "source": [
    "pd.read_sql('Select Count(*)  from movie_ratings Where numvotes<7', conn)"
   ]
  },
  {
   "cell_type": "code",
   "execution_count": null,
   "metadata": {},
   "outputs": [],
   "source": [
    "pd.read_sql('Select AVG(numvotes)  from movie_ratings ', conn)"
   ]
  },
  {
   "cell_type": "code",
   "execution_count": null,
   "metadata": {},
   "outputs": [],
   "source": [
    "pd.read_sql('Select Count(*)  from movie_ratings Where numvotes<1000', conn)"
   ]
  },
  {
   "cell_type": "code",
   "execution_count": null,
   "metadata": {},
   "outputs": [],
   "source": [
    "pd.read_sql('Select * from principals', conn)"
   ]
  },
  {
   "cell_type": "code",
   "execution_count": null,
   "metadata": {},
   "outputs": [],
   "source": [
    "conn.close()"
   ]
  },
  {
   "cell_type": "code",
   "execution_count": null,
   "metadata": {},
   "outputs": [],
   "source": []
  }
 ],
 "metadata": {
  "kernelspec": {
   "display_name": "Python (learn-env)",
   "language": "python",
   "name": "learn-env"
  },
  "language_info": {
   "codemirror_mode": {
    "name": "ipython",
    "version": 3
   },
   "file_extension": ".py",
   "mimetype": "text/x-python",
   "name": "python",
   "nbconvert_exporter": "python",
   "pygments_lexer": "ipython3",
   "version": "3.8.5"
  }
 },
 "nbformat": 4,
 "nbformat_minor": 4
}
